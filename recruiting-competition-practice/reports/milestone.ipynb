{
 "cells": [
  {
   "cell_type": "markdown",
   "metadata": {},
   "source": [
    "# Capstone Project I Report: Milestone Report"
   ]
  },
  {
   "cell_type": "markdown",
   "metadata": {},
   "source": [
    "## Introduction\n",
    "\n",
    "This is a milestone report for my first capstone project in Springboard. Originally from a kaggle competition, this project targets to build a system that will predict item sales in extreme weather events for Walmart using machine learning techniques. The object for this report is summarizing the progress and becoming a base stone for the final report.\n",
    "\n",
    "This report will include the following sections:\n",
    "\n",
    "* Problem Description: In this section, I will define the problem that needs to be solved in this capstone project, point out the potential client, and describe how the result from this capstone project will benefit them.\n",
    "* Dataset Description: In this section, I will give the source of the datasets used in this capstone project, explaining the datasets' content, as well as the meaning for each column in the datasets.\n",
    "* Data Wrangling: In order to perform machine learning algorithms, the data must be merged and cleaned. This process is called data wrangling. This subsection describes all the data wrangling steps used in this project.\n",
    "* Feature Selection: Some algorithms in machine learning, like linear regression, require the features to be linear independent in order to have good performance. Also, some additional features are added in this section to enhance the algorithm performance.\n",
    "* Initial Observation: In this section, I will show the initial observation of the dataset in order to try to identify useful features for the learning task.\n",
    "* Learning Method: In this section, I will give the details for the learning method, including:\n",
    "    + Overall Structure: This subsection describes the general structure of the learning process. \n",
    "    + Algorithms: This section describes the machine learning techniques used in the project. It includes subsections for each algorithm: SVM, decision tree & random forest, and neural network.\n",
    "* Result and Performance: The prediction results on testing set are submitted to the kaggle website. The website then gives the root mean squared logarithmic error (RMSLE) and ranking for each result submitted. Then, I evaluate the performance of each algorithm based on its RMSLE score.\n",
    "* Conclusion: This section concludes the report by reinstating the learning object, the learning algorithms, and their performance.\n",
    "\n",
    "This project uses python as the coding language. Since this report is in the form of ipython notebook, a large part of the code is included in this report. For clarity, I exclude testing code and part of feature analysis code.\n"
   ]
  },
  {
   "cell_type": "markdown",
   "metadata": {},
   "source": [
    "## Problem Description\n",
    "\n",
    "### Problem Definition\n",
    "\n",
    "This project comes from a kaggle competition. Walmart wants to know the correlation between weather condition and its sales record. More specifically, Walmart wants a model that can \"accurately predict the sales of 111 potentially weather-sensitive products (like umbrellas, bread, and milk) around the time of major weather events at 45 of their retail locations\".\n",
    "\n",
    "To this end, in this capstone project I would like to accomplish the following objects:\n",
    "1.A model that will predict product sales in major weather events\n",
    "2.Evaluate how the weather condition affect the sales\n",
    "\n",
    "\n",
    "### Potential Benefit for Client\n",
    "\n",
    "According to the description of the kaggle competition, the model will help Walmart in the following aspects:\n",
    "1. It will help Walmart better manage its inventory, and keep its customers out of rain\n",
    "2. It will help Walmart better evaluate the effectiveness of its current management against weather event"
   ]
  },
  {
   "cell_type": "markdown",
   "metadata": {},
   "source": [
    "## Dataset Description\n",
    "\n",
    "The data can be found at kaggle in this link:\n",
    "\n",
    "https://www.kaggle.com/c/walmart-recruiting-sales-in-stormy-weather\n",
    "\n",
    "Four datasets are provided: \n",
    "* train.csv: a training sales dataset with date, store number, item number and its corresponding sales record. \n",
    "* test.csv: a testing sales dataset with only date, store number, and item number. The prediction on this dataset is then submitted to kaggle for performance evaluation.\n",
    "* weather.csv: a weather dataset recording all weather conditions with weather station number, rainfall, wind, temperature, and many other features.\n",
    "* key.csv: a correlation dataset linking store with its nearest weather station.\n",
    "\n",
    "After merging those datasets into one dataset, we can see the following columns appeared in the final dataset:\n",
    "\n",
    "* date: year-month-day format\n",
    "* store_nbr: Walmart store number\n",
    "* item_nbr: item number, 117 of them, each number indicates one item, we do not have further information about what precise item would that be. \n",
    "* units: number of items sold on that day\n",
    "* station_nbr: weather station number\n",
    "* tmax, tmin, tavg, depart, dewpoint, wetbulb: temperature max, min, average, departure from normal, average dew point, average wet bulb. in Fahrenheit\n",
    "* sunrise, sunset: time of sunrise and sunset\n",
    "* codesum: special code in letters indicating the weather conditions of that day, such as RA as rain, SN as snowing \n",
    "* snowfall: snow/ice on the ground in inches at 1200 UTC\n",
    "* preciptotal: 24-hour snowdrop in inches\n",
    "* stnpressure: air pressure\n",
    "* sealevel: in meters\n",
    "* resultspeed: resultant wind speed, miles per hour\n",
    "* resultdir: resultant wind direction, in degrees\n",
    "* avgspeed: average wind speed, miles per hour\n",
    "\n",
    "I will talk about data merging in more details in subsection data wrangling of section learning method."
   ]
  },
  {
   "cell_type": "markdown",
   "metadata": {},
   "source": [
    "## Data Wrangling\n",
    "\n",
    "As stated above, the data must be merged, interpolated and cleaned before passing to machine learning algorithms. \n",
    "\n",
    "### Data Merge\n",
    "\n",
    "The goal of this project is to predict item sales based on weather data. The sales record is stored in train.csv, and weather record is stored in weather.csv. Data from key.csv indicates the corresponding relationship between the store and weather station.\n",
    "\n",
    "Naturally, the first step for this project would be merging the information from the datasets together.\n",
    "\n",
    "To merge datasets into one:"
   ]
  },
  {
   "cell_type": "code",
   "execution_count": 1,
   "metadata": {
    "collapsed": true
   },
   "outputs": [],
   "source": [
    "import pandas as pd\n",
    "import numpy as np\n",
    "import sys\n",
    "import re\n",
    "df_key = pd.read_csv(\"../input/key.csv\")\n",
    "df_train = pd.read_csv(\"../input/train.csv\")\n",
    "df_test = pd.read_csv(\"../input/test.csv\")\n",
    "df_weather = pd.read_csv(\"../input/weather.csv\")\n",
    "\n",
    "df_train['date'] = pd.to_datetime(df_train['date'])\n",
    "df_weather['date'] = pd.to_datetime(df_weather['date'])\n",
    "\n",
    "temp = pd.merge(df_train, df_key,how='left', on=['store_nbr'])\n",
    "df_main_train = pd.merge(temp, df_weather, how='left', on=['station_nbr','date'])"
   ]
  },
  {
   "cell_type": "markdown",
   "metadata": {},
   "source": [
    "### Weather Event Locate & Data interpolation\n",
    "\n",
    "Since the object is predicting sales record in near weather events, it is necessary to highlight data of those events. A weather event is defined as rainy days with 1 inch or more rainfall, or snowy days with 2 inches or more snowfall.\n",
    "\n",
    "There are missing data in the dataset as well. In order to process them, I first order them by store, item, and date, and perform linear interpolation on the result. For such interpolation, pandas provide a convenient function: pd.interpolate()."
   ]
  },
  {
   "cell_type": "code",
   "execution_count": 2,
   "metadata": {},
   "outputs": [
    {
     "name": "stderr",
     "output_type": "stream",
     "text": [
      "/home/zexi/anaconda2/lib/python2.7/site-packages/ipykernel/__main__.py:4: FutureWarning: convert_objects is deprecated.  Use the data-type specific converters pd.to_datetime, pd.to_timedelta and pd.to_numeric.\n",
      "/home/zexi/anaconda2/lib/python2.7/site-packages/ipykernel/__main__.py:14: FutureWarning: pd.rolling_mean is deprecated for Series and will be removed in a future version, replace with \n",
      "\tSeries.rolling(window=7,center=True).mean()\n"
     ]
    }
   ],
   "source": [
    "df_ordered = df_main_train.sort_values(['store_nbr','item_nbr','date']).reset_index(drop=True)\n",
    "df_main_train = []\n",
    "# data interpolation after sorting\n",
    "df_ordered = df_ordered.convert_objects(convert_numeric=True)\n",
    "df_ordered['preciptotal'] = df_ordered['preciptotal'].fillna(0)\n",
    "df_ordered['snowfall'] = df_ordered['snowfall'].fillna(0)\n",
    "df_ordered = df_ordered.interpolate()\n",
    "\n",
    "# weather event locate\n",
    "patternRA = 'RA'\n",
    "patternSN = 'SN'\n",
    "df_ordered['RA'], df_ordered['SN'] = df_ordered['codesum'].str.contains(patternRA), df_ordered['codesum'].str.contains(patternSN)\n",
    "df_ordered['Condition'] = (df_ordered['RA'] & (df_ordered['preciptotal']>1.0)) | ((df_ordered['SN'] & df_ordered['preciptotal']>2.0))\n",
    "df_ordered['WEvent'] = (pd.rolling_mean(df_ordered['Condition'],window=7,center=True) > 0)\n"
   ]
  },
  {
   "cell_type": "markdown",
   "metadata": {},
   "source": [
    "### Outliers\n",
    "\n",
    "Two outliers are found at sales record: the highest and second highest sales record for item 5 is 5568 and 3369, while the third place is only 500. So I excluded these sales out of learning period."
   ]
  },
  {
   "cell_type": "code",
   "execution_count": 3,
   "metadata": {
    "collapsed": true
   },
   "outputs": [],
   "source": [
    "df_ordered.loc[((df_ordered['units'] == 3369) | (df_ordered['units'] == 5568)),'units'] = 0"
   ]
  },
  {
   "cell_type": "markdown",
   "metadata": {},
   "source": [
    "## Feature Selection\n",
    "\n",
    "As stated above, for some algorithms like linear regression or SVM, it is necessary to rule out linear dependent features to ensure good performance. Therefore, I carry out one more step for this. The technique I use is called Variance Inflation Factors (VIF).\n",
    "\n",
    "### VIF\n",
    "\n",
    "Some features have strong (linear) correlations between them, and that may affect the performance of some learning methods. So it is best to identify those correlations using variance inflation factor, also known as VIF:\n"
   ]
  },
  {
   "cell_type": "code",
   "execution_count": 4,
   "metadata": {},
   "outputs": [
    {
     "name": "stderr",
     "output_type": "stream",
     "text": [
      "/home/zexi/anaconda2/lib/python2.7/site-packages/statsmodels/compat/pandas.py:56: FutureWarning: The pandas.core.datetools module is deprecated and will be removed in a future version. Please use the pandas.tseries module instead.\n",
      "  from pandas.core import datetools\n",
      "/home/zexi/anaconda2/lib/python2.7/site-packages/ipykernel/__main__.py:13: FutureWarning: convert_objects is deprecated.  Use the data-type specific converters pd.to_datetime, pd.to_timedelta and pd.to_numeric.\n",
      "/home/zexi/anaconda2/lib/python2.7/site-packages/statsmodels/regression/linear_model.py:1386: RuntimeWarning: divide by zero encountered in double_scalars\n",
      "  return 1 - self.ssr/self.centered_tss\n",
      "/home/zexi/anaconda2/lib/python2.7/site-packages/statsmodels/stats/outliers_influence.py:167: RuntimeWarning: divide by zero encountered in double_scalars\n",
      "  vif = 1. / (1. - r_squared_i)\n"
     ]
    },
    {
     "data": {
      "text/html": [
       "<div>\n",
       "<style>\n",
       "    .dataframe thead tr:only-child th {\n",
       "        text-align: right;\n",
       "    }\n",
       "\n",
       "    .dataframe thead th {\n",
       "        text-align: left;\n",
       "    }\n",
       "\n",
       "    .dataframe tbody tr th {\n",
       "        vertical-align: top;\n",
       "    }\n",
       "</style>\n",
       "<table border=\"1\" class=\"dataframe\">\n",
       "  <thead>\n",
       "    <tr style=\"text-align: right;\">\n",
       "      <th></th>\n",
       "      <th>VIF Factor</th>\n",
       "      <th>features</th>\n",
       "    </tr>\n",
       "  </thead>\n",
       "  <tbody>\n",
       "    <tr>\n",
       "      <th>0</th>\n",
       "      <td>0.000000</td>\n",
       "      <td>Intercept</td>\n",
       "    </tr>\n",
       "    <tr>\n",
       "      <th>1</th>\n",
       "      <td>47.100000</td>\n",
       "      <td>tmax</td>\n",
       "    </tr>\n",
       "    <tr>\n",
       "      <th>2</th>\n",
       "      <td>50.500000</td>\n",
       "      <td>tmin</td>\n",
       "    </tr>\n",
       "    <tr>\n",
       "      <th>3</th>\n",
       "      <td>inf</td>\n",
       "      <td>tavg</td>\n",
       "    </tr>\n",
       "    <tr>\n",
       "      <th>4</th>\n",
       "      <td>1.000000</td>\n",
       "      <td>depart</td>\n",
       "    </tr>\n",
       "    <tr>\n",
       "      <th>5</th>\n",
       "      <td>18.600000</td>\n",
       "      <td>dewpoint</td>\n",
       "    </tr>\n",
       "    <tr>\n",
       "      <th>6</th>\n",
       "      <td>40.600000</td>\n",
       "      <td>wetbulb</td>\n",
       "    </tr>\n",
       "    <tr>\n",
       "      <th>7</th>\n",
       "      <td>inf</td>\n",
       "      <td>heat</td>\n",
       "    </tr>\n",
       "    <tr>\n",
       "      <th>8</th>\n",
       "      <td>inf</td>\n",
       "      <td>cool</td>\n",
       "    </tr>\n",
       "  </tbody>\n",
       "</table>\n",
       "</div>"
      ],
      "text/plain": [
       "   VIF Factor   features\n",
       "0    0.000000  Intercept\n",
       "1   47.100000       tmax\n",
       "2   50.500000       tmin\n",
       "3         inf       tavg\n",
       "4    1.000000     depart\n",
       "5   18.600000   dewpoint\n",
       "6   40.600000    wetbulb\n",
       "7         inf       heat\n",
       "8         inf       cool"
      ]
     },
     "execution_count": 4,
     "metadata": {},
     "output_type": "execute_result"
    }
   ],
   "source": [
    "import pandas as pd\n",
    "import numpy as np\n",
    "from patsy import dmatrices\n",
    "import statsmodels.api as sm\n",
    "from statsmodels.stats.outliers_influence import variance_inflation_factor\n",
    "\n",
    "df = df_ordered\n",
    "\n",
    "mask = (df['item_nbr'] == 5)\n",
    "df = df.loc[mask]\n",
    "\n",
    "df_temperature_related = df[['units','tmax','tmin','tavg','depart','dewpoint','wetbulb','heat','cool']]\n",
    "df_temperature_related = df_temperature_related.convert_objects(convert_numeric=True).dropna()\n",
    "df_temperature_related = df_temperature_related._get_numeric_data()\n",
    "df_temperature_related = df_temperature_related.reset_index(drop=True)\n",
    "\n",
    "df_temperature_related_features = df_temperature_related[['tmax','tmin','tavg','depart','dewpoint','wetbulb','heat','cool']]\n",
    "\n",
    "features = \"+\".join(df_temperature_related_features.columns)\n",
    "y, X = dmatrices('units ~' + features, df_temperature_related, return_type='dataframe')\n",
    "\n",
    "vif = pd.DataFrame()\n",
    "vif[\"VIF Factor\"] = [variance_inflation_factor(X.values, i) for i in range(X.shape[1])]\n",
    "vif[\"features\"] = X.columns\n",
    "\n",
    "vif.round(1)"
   ]
  },
  {
   "cell_type": "code",
   "execution_count": 5,
   "metadata": {
    "collapsed": true
   },
   "outputs": [],
   "source": [
    "df = []\n",
    "df_temperature_related = []"
   ]
  },
  {
   "cell_type": "markdown",
   "metadata": {},
   "source": [
    "### Feature Creation\n",
    "\n",
    "After actually performing learning models, I find the following features useful: The sales record average for 7 days before the day and the sales record average for 7 days after the day. Other features I add include markers indicating if the day is within 3 days before a weather event, or within 3 days after a weather event. Since in my initial observation I find weekday, month and year have good relations with sales record, I added them as features as well.\n",
    "\n",
    "I exclude some weather features based on VIF result here as well. \n",
    "\n",
    "You may already notice that I actually exclude all the numeric weather features and only keep the indicators for extreme weather, rain, and snow. This is because the model actually gives better performance without them. In the result section, you will see the performance difference between models with numeric weather features and without them."
   ]
  },
  {
   "cell_type": "code",
   "execution_count": 6,
   "metadata": {},
   "outputs": [
    {
     "name": "stderr",
     "output_type": "stream",
     "text": [
      "/home/zexi/anaconda2/lib/python2.7/site-packages/ipykernel/__main__.py:21: FutureWarning: pd.rolling_mean is deprecated for Series and will be removed in a future version, replace with \n",
      "\tSeries.rolling(window=3,center=False).mean()\n",
      "/home/zexi/anaconda2/lib/python2.7/site-packages/ipykernel/__main__.py:22: FutureWarning: pd.rolling_mean is deprecated for Series and will be removed in a future version, replace with \n",
      "\tSeries.rolling(window=3,center=False).mean()\n",
      "/home/zexi/anaconda2/lib/python2.7/site-packages/ipykernel/__main__.py:24: FutureWarning: pd.rolling_mean is deprecated for Series and will be removed in a future version, replace with \n",
      "\tSeries.rolling(window=6,center=False).mean()\n",
      "/home/zexi/anaconda2/lib/python2.7/site-packages/ipykernel/__main__.py:25: FutureWarning: pd.rolling_mean is deprecated for Series and will be removed in a future version, replace with \n",
      "\tSeries.rolling(window=6,center=False).mean()\n"
     ]
    }
   ],
   "source": [
    "import pandas as pd\n",
    "import numpy as np\n",
    "import sys\n",
    "import re\n",
    "import os\n",
    "\n",
    "df_ordered['train'] = 1\n",
    "df_orderedtest = pd.read_csv(\"../code/ordered_test.csv\")\n",
    "df_orderedtest['train']=0\n",
    "df_orderedtest['units']=np.nan #last version0\n",
    "\n",
    "df_main = pd.concat([df_ordered,df_orderedtest])\n",
    "#df_main = df_main.drop(['Unnamed: 0','station_nbr','tmax','tmin','depart','dewpoint','wetbulb','heat','cool','sunrise','sunset','codesum','snowfall','stnpressure','sealevel','resultspeed'],axis=1)\n",
    "df_main = df_main.drop(['Unnamed: 0','station_nbr','tmax','tmin','depart','dewpoint','wetbulb','heat','cool','sunrise','sunset','codesum','snowfall','stnpressure','sealevel','resultspeed','avgspeed','preciptotal','resultdir','tavg'],axis=1)\n",
    "df_ordered = []\n",
    "df_orderedtest = []\n",
    "\n",
    "df_main = df_main.sort_values(['store_nbr','item_nbr','date']).reset_index(drop=True)\n",
    "df_main['units'] = df_main['units'].interpolate() #added\n",
    "\n",
    "df_main['Before_Event'] = (pd.rolling_mean(df_main['Condition'], window=3).shift(-3) > 0)\n",
    "df_main['After_Event'] = (pd.rolling_mean(df_main['Condition'], window=3).shift(1) > 0)\n",
    "\n",
    "df_main['Before_Sales'] = pd.rolling_mean(df_main['units'], window=6).shift(-6)\n",
    "df_main['After_Sales'] = pd.rolling_mean(df_main['units'], window=6).shift(1)\n",
    "\n",
    "item_nbr_list = list(set(df_main['item_nbr']))\n",
    "store_nbr_list = list(set(df_main['store_nbr']))\n",
    "\n",
    "df_ordered = df_main.loc[(df_main['train'] == 1)].reset_index(drop=True)\n",
    "df_orderedtest = df_main.loc[(df_main['train'] == 0)].reset_index(drop=True)\n",
    "\n",
    "df_ordered['year'] = pd.to_datetime(df_ordered['date'], infer_datetime_format=True).dt.year\n",
    "df_ordered['month'] = pd.to_datetime(df_ordered['date'], infer_datetime_format=True).dt.month\n",
    "df_ordered['weekday'] = pd.to_datetime(df_ordered['date'], infer_datetime_format=True).dt.weekday\n",
    "\n",
    "df_orderedtest['year'] = pd.to_datetime(df_orderedtest['date'], infer_datetime_format=True).dt.year\n",
    "df_orderedtest['month'] = pd.to_datetime(df_orderedtest['date'], infer_datetime_format=True).dt.month\n",
    "df_orderedtest['weekday'] = pd.to_datetime(df_orderedtest['date'], infer_datetime_format=True).dt.weekday\n"
   ]
  },
  {
   "cell_type": "markdown",
   "metadata": {},
   "source": [
    "## Initial Observation \n",
    "\n",
    "Initial observation is important. It can give us initial ideas such as which features to use for the coming learning task, and which learning structure to use in order to enhance learning efficiency. \n",
    "\n",
    "In my data storytelling reports 1 & 2 (they are available in the https://github.com/ZackCode/Capstone1_Walmert_Sales/tree/master/recruiting-competition-practice/reports), I reached some conclusions. Then, I tested these conclusions in my inferential statistics report.\n",
    "\n",
    "Here are the conclusions that still stand after inferential statistics test:\n",
    "\n",
    "* The sales pattern of normal days is different from the sales pattern of extreme weather period.\n",
    "* Item 5 sells best during extreme weather period.\n",
    "* Features that indicating whether the day is a normal day, a day before a bad weather or a day after a bad weather could be useful since observation suggests that even when it is a sunny day, the sales record close to bad weather still differ from normal case.\n",
    "* For item 5: Year does affect the sales record.\n",
    "* For item 5: Weekday does affect the sales record.\n",
    "* For item 5: Rainfall/Snowfall: Since we can indicate major events by event marker (see the part 1 report), whether rain/snow present is useful in predicting item 5 sales, but the amount of rainfall/snowfall does not matter that much.\n",
    "* For item 5: Temperature: During normal days, The temperature and selling record surely has a correlation in general case. However, this correlation is not linear. Also, the correlation between temperature and selling record during major weather events is less stronger than the one during normal days.\n",
    "\n",
    "For simplicity, I only include one graph into this report: average sales record based on weekdays:"
   ]
  },
  {
   "cell_type": "code",
   "execution_count": 7,
   "metadata": {},
   "outputs": [
    {
     "data": {
      "image/png": "[encoded data removed]",
      "text/plain": [
       "<matplotlib.figure.Figure at 0x7f2629799110>"
      ]
     },
     "metadata": {},
     "output_type": "display_data"
    }
   ],
   "source": [
    "import matplotlib.pyplot as plt\n",
    "\n",
    "mask = (df_ordered['item_nbr'] == 5)\n",
    "data = df_ordered.loc[mask,['units','weekday']]\n",
    "\n",
    "count = data.groupby(['weekday']).aggregate(np.mean).unstack()\n",
    "count.index = count.index.droplevel()\n",
    "\n",
    "\n",
    "mask = ((df_ordered['item_nbr'] == 5) & (df_ordered['WEvent'] == 1))\n",
    "data = df_ordered.loc[mask,['units','weekday']]\n",
    "\n",
    "count_severe = data.groupby(['weekday']).aggregate(np.mean).unstack()\n",
    "count_severe.index = count_severe.index.droplevel()\n",
    "\n",
    "count = pd.concat([count, count_severe], axis=1)\n",
    "count.columns = ['normal','extreme weather period']\n",
    "import calendar\n",
    "count.index = list(calendar.day_name)\n",
    "\n",
    "count.plot(kind='bar')\n",
    "\n",
    "plt.title('Daily sold item by weekday')\n",
    "plt.xlabel('weekday')\n",
    "plt.ylabel('average items per day')\n",
    "\n",
    "\n",
    "plt.show()"
   ]
  },
  {
   "cell_type": "markdown",
   "metadata": {},
   "source": [
    "Again for simplicity, I only show one evaluation here. For all the evaluation, please click the link above and see my other report.\n",
    "\n",
    "Here I will evaluate the following claim: In extreme weather days, the sales record for item 45 dropped significantly.\n",
    "\n",
    "This claim is a subclaim supporting the first claim \"The sales pattern of normal days is different from the sales pattern of extreme weather period.\" In order to evaluate this, I first implement the functions used to calculate p values for null hypothesis test: "
   ]
  },
  {
   "cell_type": "code",
   "execution_count": 8,
   "metadata": {
    "collapsed": true
   },
   "outputs": [],
   "source": [
    "def perm_diff(data1,data2,targetfun):\n",
    "    conc_data = np.concatenate((data1,data2))\n",
    "    value = targetfun(data1) - targetfun(data2)\n",
    "    value_diff = np.empty(10000)\n",
    "\n",
    "    for i in range(10000):\n",
    "        perm_data = np.random.permutation(conc_data)\n",
    "        perm_data1 = perm_data[:len(data1)]\n",
    "        perm_data2 = perm_data[len(data1):]\n",
    "        \n",
    "        perm_value1 = targetfun(perm_data1)\n",
    "        perm_value2 = targetfun(perm_data2)\n",
    "        value_diff[i] = perm_value1 - perm_value2\n",
    "        \n",
    "        if value>0:\n",
    "            p = np.sum(value_diff > value)/float(len(value_diff))\n",
    "        else:\n",
    "            p = np.sum(value_diff < value)/float(len(value_diff))\n",
    "    print \"p value:\",  p\n",
    "    print \"value\", value\n",
    "    print \"99% null hypothesis interval:\",  np.percentile(value_diff, [0.5, 99.5])\n",
    "    \n",
    "def item_sales_inferential(item):\n",
    "\n",
    "    mask_event = ((df_ordered['WEvent'] == 1) & (df_ordered['item_nbr'] == item))\n",
    "    mask_no_event = ((df_ordered['WEvent'] == 0) & (df_ordered['item_nbr'] == item))\n",
    "\n",
    "    data1 = list(df_ordered.loc[mask_event, 'units'])\n",
    "    data2 = list(df_ordered.loc[mask_no_event, 'units'])\n",
    "\n",
    "    perm_diff(data1,data2,np.mean)\n"
   ]
  },
  {
   "cell_type": "markdown",
   "metadata": {},
   "source": [
    "Then, I evaluate the claim by evaluating the null hypothesis \"The item 45 sales record in extreme weather events is actually the same as the item 45 sales record in normal days\"."
   ]
  },
  {
   "cell_type": "code",
   "execution_count": 9,
   "metadata": {},
   "outputs": [
    {
     "name": "stderr",
     "output_type": "stream",
     "text": [
      "/home/zexi/anaconda2/lib/python2.7/site-packages/ipykernel/__main__.py:18: RuntimeWarning: invalid value encountered in less\n"
     ]
    },
    {
     "name": "stdout",
     "output_type": "stream",
     "text": [
      "p value: 0.0\n",
      "value -8.5177407805\n",
      "99% null hypothesis interval: [-1.881552    1.86805442]\n"
     ]
    }
   ],
   "source": [
    "item_sales_inferential(45)"
   ]
  },
  {
   "cell_type": "markdown",
   "metadata": {},
   "source": [
    "The p-value is 0, meaning the null hypothesis does not stand. Therefore, in extreme weather days, the sales record for item 45 did drop.\n",
    "\n",
    "For more details about how I come up with the above conclusions, please go to https://github.com/ZackCode/Capstone1_Walmert_Sales/tree/master/recruiting-competition-practice/reports, and see my data storytelling and inferential statistics reports."
   ]
  },
  {
   "cell_type": "markdown",
   "metadata": {},
   "source": [
    "## Learning Method\n",
    "\n",
    "### Overall Structure\n",
    "\n",
    "Below is a graph showing the general workflow of the learning method."
   ]
  },
  {
   "cell_type": "code",
   "execution_count": 10,
   "metadata": {},
   "outputs": [
    {
     "data": {
      "image/jpeg": "[encoded data removed]",
      "text/plain": [
       "<IPython.core.display.Image object>"
      ]
     },
     "execution_count": 10,
     "metadata": {},
     "output_type": "execute_result"
    }
   ],
   "source": [
    "from IPython.display import Image\n",
    "Image(filename='MLdia.jpg')"
   ]
  },
  {
   "cell_type": "markdown",
   "metadata": {},
   "source": [
    "The basic idea for the learning method is looping over all possible combinations of store and item, and train a regressor for each unique combination. The reason for choosing this structure is:\n",
    "\n",
    "* There are quite a few store/item combinations with 0 sales record in the training set. For example, none of item 1 is actually sold in store 1. The best explanation for this is that for store 1, there is no storage of item 1 during the dataset period. For this reason, it is more appropriate to build a regressor for each store/item combination, and just predict everything to 0 on the store/item combinations with 0 sales in training dataset.\n",
    "* Build a learning model for all the data requires a large memory that beyond my laptop's capability. \n"
   ]
  },
  {
   "cell_type": "markdown",
   "metadata": {},
   "source": [
    "### Algorithms\n",
    "\n",
    "#### SVM\n",
    "\n",
    "Linear models are the first regressor class I choose, for they cost relatively less computational power, and usually have nice performance if the features and the target are linearly related. Moreover, the results given by linear models are usually easy to explain, the importance of two features can be compared to their corresponding coefficient parameters.\n",
    "\n",
    "For this project, I used SVM. I add log transform to the sales record to improve the performance."
   ]
  },
  {
   "cell_type": "code",
   "execution_count": 11,
   "metadata": {
    "collapsed": true
   },
   "outputs": [],
   "source": [
    "df_ordered = pd.get_dummies(df_ordered, columns=['year','month','weekday'])\n",
    "df_ordered = df_ordered.drop(['date'],axis=1)\n",
    "\n",
    "df_orderedtest = pd.get_dummies(df_orderedtest, columns=['year','month','weekday'])\n",
    "\n",
    "df_orderedtest['id'] = df_orderedtest['store_nbr'].astype(str) + '_' + df_orderedtest['item_nbr'].astype(str) + '_' + df_orderedtest['date'].astype(str)\n",
    "df_orderedtest = df_orderedtest.set_index('id')\n",
    "\n",
    "df_orderedtest = df_orderedtest.drop(['date'],axis=1)\n",
    "\n",
    "\n",
    "# why not\n",
    "result = df_orderedtest['units']\n",
    "result = result.reset_index()\n",
    "mask = (result['units'] < 0)\n",
    "result.loc[mask,'units'] = 0\n",
    "result.to_csv(\"../code/result_0_new.csv\",sep=\",\",index=False)\n",
    "\n",
    "item_nbr_list = list(set(df_ordered['item_nbr']))\n",
    "store_nbr_list = list(set(df_ordered['store_nbr']))\n",
    "\n",
    "#df_orderedtest.insert(12, 'year_2012', 0) # this one is right\n",
    "df_orderedtest.insert(12, 'year_2012', 0)\n",
    "df_ordered['units'] = df_ordered['units'].apply(lambda x: np.log(x+1)) #  new ver4\n",
    "df_orderedtest['units'] = df_orderedtest['units'].apply(lambda x: np.log(x+1)) # new ver4"
   ]
  },
  {
   "cell_type": "code",
   "execution_count": 12,
   "metadata": {
    "collapsed": true
   },
   "outputs": [],
   "source": [
    "df_ordered = df_ordered.drop(['train'],axis=1)\n",
    "df_orderedtest = df_orderedtest.drop(['train'],axis=1)"
   ]
  },
  {
   "cell_type": "code",
   "execution_count": 13,
   "metadata": {},
   "outputs": [
    {
     "name": "stdout",
     "output_type": "stream",
     "text": [
      "Completion: 2.22 percent\n",
      "Completion: 4.44 percent\n",
      "Completion: 6.67 percent\n",
      "Completion: 8.89 percent\n",
      "Completion: 11.11 percent\n",
      "Completion: 13.33 percent\n",
      "Completion: 15.56 percent\n",
      "Completion: 17.78 percent\n",
      "Completion: 20.00 percent\n",
      "Completion: 22.22 percent\n",
      "Completion: 24.44 percent\n",
      "Completion: 26.67 percent\n",
      "Completion: 28.89 percent\n",
      "Completion: 31.11 percent\n",
      "Completion: 33.33 percent\n",
      "Completion: 35.56 percent\n",
      "Completion: 37.78 percent\n",
      "Completion: 40.00 percent\n",
      "Completion: 42.22 percent\n",
      "Completion: 44.44 percent\n",
      "Completion: 46.67 percent\n",
      "Completion: 48.89 percent\n",
      "Completion: 51.11 percent\n",
      "Completion: 53.33 percent\n",
      "Completion: 55.56 percent\n",
      "Completion: 57.78 percent\n",
      "Completion: 60.00 percent\n",
      "Completion: 62.22 percent\n",
      "Completion: 64.44 percent\n",
      "Completion: 66.67 percent\n",
      "Completion: 68.89 percent\n",
      "Completion: 71.11 percent\n",
      "Completion: 73.33 percent\n",
      "Completion: 75.56 percent\n",
      "Completion: 77.78 percent\n",
      "Completion: 80.00 percent\n",
      "Completion: 82.22 percent\n",
      "Completion: 84.44 percent\n",
      "Completion: 86.67 percent\n",
      "Completion: 88.89 percent\n",
      "Completion: 91.11 percent\n",
      "Completion: 93.33 percent\n",
      "Completion: 95.56 percent\n",
      "Completion: 97.78 percent\n",
      "Completion: 100.00 percent\n"
     ]
    }
   ],
   "source": [
    "from sklearn.preprocessing import MinMaxScaler\n",
    "from collections import defaultdict\n",
    "from sklearn.svm import SVR\n",
    "\n",
    "for store in store_nbr_list:\n",
    "    for item in item_nbr_list:\n",
    "        mask = ((df_ordered['item_nbr'] == item) & (df_ordered['store_nbr'] == store))\n",
    "        y_train = df_ordered.loc[mask,'units']\n",
    "        X_train = df_ordered.loc[mask,df_ordered.columns != 'units']\n",
    "        \n",
    "        mask = ((df_orderedtest['item_nbr'] == item) & (df_orderedtest['store_nbr'] == store))\n",
    "        X_test = df_orderedtest.loc[mask,df_orderedtest.columns != 'units']\n",
    "        \n",
    "        if X_test.empty == 0:\n",
    "            if y_train.max() != 0:\n",
    "       \n",
    "                scaling = MinMaxScaler(feature_range=(0,1)).fit(X_train)\n",
    "                X_train = scaling.transform(X_train)\n",
    "                X_test = scaling.transform(X_test)\n",
    "        \n",
    "                svr = SVR()\n",
    "                #svr = SVR(kernel='rbf', C=100.0, gamma=10.0)\n",
    "                svr.fit(X_train, y_train)\n",
    "                df_orderedtest.loc[mask,'units'] = svr.predict(X_test)\n",
    "                \n",
    "    process = (100.0*store/len(store_nbr_list))    \n",
    "    print \"Completion: %.2f percent\" % process\n",
    "\n",
    "df_ordered['units'] = df_ordered['units'].apply(lambda x: np.exp(x)-1)\n",
    "df_orderedtest['units'] = df_orderedtest['units'].apply(lambda x: np.exp(x)-1)\n",
    "result = df_orderedtest['units']\n",
    "result = result.reset_index()\n",
    "mask = (result['units'] < 0)\n",
    "result.loc[mask,'units'] = 0\n",
    "result.to_csv(\"../code/result_fastsvm.csv_ver4_log_interp\",sep=\",\",index=False)"
   ]
  },
  {
   "cell_type": "markdown",
   "metadata": {},
   "source": [
    "#### Decision Tree & Random Forest\n",
    "\n",
    "With so many binary indicators in this project as features (such as dummy features for year, month, weekday), it is worth trying decision tree, which separate features based on thresholds on single features. The code is as follows:"
   ]
  },
  {
   "cell_type": "code",
   "execution_count": 17,
   "metadata": {},
   "outputs": [
    {
     "name": "stdout",
     "output_type": "stream",
     "text": [
      "1\n",
      "2\n",
      "3\n",
      "4\n",
      "5\n",
      "6\n",
      "7\n",
      "8\n",
      "9\n",
      "10\n",
      "11\n",
      "12\n",
      "13\n",
      "14\n",
      "15\n",
      "16\n",
      "17\n",
      "18\n",
      "19\n",
      "20\n",
      "21\n",
      "22\n",
      "23\n",
      "24\n",
      "25\n",
      "26\n",
      "27\n",
      "28\n",
      "29\n",
      "30\n",
      "31\n",
      "32\n",
      "33\n",
      "34\n",
      "35\n",
      "36\n",
      "37\n",
      "38\n",
      "39\n",
      "40\n",
      "41\n",
      "42\n",
      "43\n",
      "44\n",
      "45\n"
     ]
    }
   ],
   "source": [
    "from sklearn.tree import DecisionTreeRegressor\n",
    "\n",
    "for store in store_nbr_list:\n",
    "    for item in item_nbr_list:\n",
    "        mask = ((df_ordered['item_nbr'] == item) & (df_ordered['store_nbr'] == store))\n",
    "        y_train = df_ordered.loc[mask,'units']\n",
    "        X_train = df_ordered.loc[mask,df_ordered.columns != 'units']\n",
    "        \n",
    "        mask = ((df_orderedtest['item_nbr'] == item) & (df_orderedtest['store_nbr'] == store))\n",
    "        X_test = df_orderedtest.loc[mask,df_orderedtest.columns != 'units']\n",
    "        \n",
    "        if X_test.empty == 0:\n",
    "            if y_train.max() != 0:\n",
    "       \n",
    "                scaling = MinMaxScaler(feature_range=(0,1)).fit(X_train)\n",
    "                X_train = scaling.transform(X_train)\n",
    "                X_test = scaling.transform(X_test)\n",
    "                \n",
    "                regression_tree = DecisionTreeRegressor(min_samples_split=30, min_samples_leaf=10,random_state=42)\n",
    "                #regression_tree = DecisionTreeRegressor(random_state=42)\n",
    "                regression_tree.fit(X_train, y_train)\n",
    "                df_orderedtest.loc[mask,'units'] = regression_tree.predict(X_test)\n",
    "        \n",
    "    print store\n",
    "\n",
    "result = df_orderedtest['units']\n",
    "result = result.reset_index()\n",
    "mask = (result['units'] < 0)\n",
    "result.loc[mask,'units'] = 0\n",
    "result.to_csv(\"../code/result_tree_ver2.csv\",sep=\",\",index=False)"
   ]
  },
  {
   "cell_type": "markdown",
   "metadata": {},
   "source": [
    "#### Neural Network\n",
    "\n",
    "Neural Network is without any doubt a powerful tool for a learning task with a non-linear structure. However, the computational cost and lack of explicit explanation are its main disadvantage. "
   ]
  },
  {
   "cell_type": "code",
   "execution_count": 18,
   "metadata": {},
   "outputs": [
    {
     "name": "stdout",
     "output_type": "stream",
     "text": [
      "1\n",
      "2\n",
      "3\n",
      "4\n",
      "5\n",
      "6\n",
      "7\n",
      "8\n",
      "9\n",
      "10\n",
      "11\n",
      "12\n",
      "13\n",
      "14\n",
      "15\n",
      "16\n",
      "17\n",
      "18\n",
      "19\n",
      "20\n",
      "21\n",
      "22\n",
      "23\n",
      "24\n",
      "25\n",
      "26\n",
      "27\n",
      "28\n",
      "29\n",
      "30\n",
      "31\n",
      "32\n",
      "33\n",
      "34\n",
      "35\n",
      "36\n",
      "37\n",
      "38\n",
      "39\n",
      "40\n",
      "41\n",
      "42\n",
      "43\n",
      "44\n",
      "45\n"
     ]
    }
   ],
   "source": [
    "import gc\n",
    "import tensorflow as tf\n",
    "import tensorflow.contrib.learn as skflow\n",
    "import itertools \n",
    "\n",
    "tf.logging.set_verbosity(tf.logging.ERROR)\n",
    "\n",
    "for store in store_nbr_list:\n",
    "    for item in item_nbr_list:\n",
    "        mask = ((df_ordered['item_nbr'] == item) & (df_ordered['store_nbr'] == store))\n",
    "        y_train = df_ordered.loc[mask,'units']\n",
    "        X_train = df_ordered.loc[mask,df_ordered.columns != 'units']\n",
    "        \n",
    "        mask = ((df_orderedtest['item_nbr'] == item) & (df_orderedtest['store_nbr'] == store))\n",
    "        X_test = df_orderedtest.loc[mask,df_orderedtest.columns != 'units']\n",
    "        \n",
    "        if X_test.empty == 0:\n",
    "            if y_train.max() != 0:\n",
    "       \n",
    "                scaling = MinMaxScaler(feature_range=(0,1)).fit(X_train)\n",
    "                X_train = scaling.transform(X_train)\n",
    "                X_test = scaling.transform(X_test)\n",
    "                \n",
    "                # possible section for parameter tunning\n",
    "                # RandomSearchCV\n",
    "                #\n",
    "                reg3 = skflow.DNNRegressor(\n",
    "                    feature_columns = tf.contrib.learn.infer_real_valued_columns_from_input(X_train),\n",
    "                    hidden_units=[30,25,25,25],\n",
    "                    optimizer='Adam')\n",
    "\n",
    "                reg3.fit(X_train,y_train, steps = 2000, batch_size = 300)\n",
    "                y_predict = reg3.predict(X_test)\n",
    "                predictions = list(itertools.islice(y_predict, len(df_orderedtest.loc[mask,'units'])))\n",
    "                df_orderedtest.loc[mask,'units'] = predictions\n",
    "        \n",
    "    print store\n",
    "\n",
    "result = df_orderedtest['units']\n",
    "result = result.reset_index()\n",
    "mask = (result['units'] < 0)\n",
    "result.loc[mask,'units'] = 0\n",
    "result.to_csv(\"../code/result_dnn.csv_ver3\",sep=\",\",index=False)"
   ]
  },
  {
   "cell_type": "markdown",
   "metadata": {},
   "source": [
    "## Results\n",
    "\n",
    "The result is shown in the table below."
   ]
  },
  {
   "cell_type": "code",
   "execution_count": 19,
   "metadata": {},
   "outputs": [
    {
     "data": {
      "text/html": [
       "<style  type=\"text/css\" >\n",
       "    #T_0a2d4d86_c02d_11e7_86e9_204747768c7brow0_col2 {\n",
       "            width:  10em;\n",
       "             height:  80%;\n",
       "            background:  linear-gradient(90deg, transparent 0%, transparent 0.0%, orange 0.0%, orange 82.1%, transparent 82.1%);\n",
       "        }    #T_0a2d4d86_c02d_11e7_86e9_204747768c7brow1_col2 {\n",
       "            width:  10em;\n",
       "             height:  80%;\n",
       "            background:  linear-gradient(90deg, transparent 0%, transparent 0.0%, orange 0.0%, orange 84.4%, transparent 84.4%);\n",
       "        }    #T_0a2d4d86_c02d_11e7_86e9_204747768c7brow2_col2 {\n",
       "            width:  10em;\n",
       "             height:  80%;\n",
       "            background:  linear-gradient(90deg, transparent 0%, transparent 0.0%, orange 0.0%, orange 72.2%, transparent 72.2%);\n",
       "        }    #T_0a2d4d86_c02d_11e7_86e9_204747768c7brow3_col2 {\n",
       "            width:  10em;\n",
       "             height:  80%;\n",
       "            background:  linear-gradient(90deg, transparent 0%, transparent 0.0%, orange 0.0%, orange 80.5%, transparent 80.5%);\n",
       "        }    #T_0a2d4d86_c02d_11e7_86e9_204747768c7brow4_col2 {\n",
       "            width:  10em;\n",
       "             height:  80%;\n",
       "            background:  linear-gradient(90deg, transparent 0%, transparent 0.0%, orange 0.0%, orange 97.2%, transparent 97.2%);\n",
       "        }    #T_0a2d4d86_c02d_11e7_86e9_204747768c7brow5_col2 {\n",
       "            width:  10em;\n",
       "             height:  80%;\n",
       "            background:  linear-gradient(90deg, transparent 0%, transparent 0.0%, orange 0.0%, orange 100.0%, transparent 100.0%);\n",
       "        }</style>  \n",
       "<table id=\"T_0a2d4d86_c02d_11e7_86e9_204747768c7b\" > \n",
       "<thead>    <tr> \n",
       "        <th class=\"blank level0\" ></th> \n",
       "        <th class=\"col_heading level0 col0\" >Algorithm Name</th> \n",
       "        <th class=\"col_heading level0 col1\" >File name</th> \n",
       "        <th class=\"col_heading level0 col2\" >RMSLE score</th> \n",
       "        <th class=\"col_heading level0 col3\" >Training Note</th> \n",
       "    </tr></thead> \n",
       "<tbody>    <tr> \n",
       "        <th id=\"T_0a2d4d86_c02d_11e7_86e9_204747768c7blevel0_row0\" class=\"row_heading level0 row0\" >0</th> \n",
       "        <td id=\"T_0a2d4d86_c02d_11e7_86e9_204747768c7brow0_col0\" class=\"data row0 col0\" >Base Submission</td> \n",
       "        <td id=\"T_0a2d4d86_c02d_11e7_86e9_204747768c7brow0_col1\" class=\"data row0 col1\" >result_0_new.csv</td> \n",
       "        <td id=\"T_0a2d4d86_c02d_11e7_86e9_204747768c7brow0_col2\" class=\"data row0 col2\" >0.11701</td> \n",
       "        <td id=\"T_0a2d4d86_c02d_11e7_86e9_204747768c7brow0_col3\" class=\"data row0 col3\" >result by a simple interpolation, inital start point of training</td> \n",
       "    </tr>    <tr> \n",
       "        <th id=\"T_0a2d4d86_c02d_11e7_86e9_204747768c7blevel0_row1\" class=\"row_heading level0 row1\" >1</th> \n",
       "        <td id=\"T_0a2d4d86_c02d_11e7_86e9_204747768c7brow1_col0\" class=\"data row1 col0\" >SVM version 1</td> \n",
       "        <td id=\"T_0a2d4d86_c02d_11e7_86e9_204747768c7brow1_col1\" class=\"data row1 col1\" >result_fastsvm.csv_ver3_interp</td> \n",
       "        <td id=\"T_0a2d4d86_c02d_11e7_86e9_204747768c7brow1_col2\" class=\"data row1 col2\" >0.12024</td> \n",
       "        <td id=\"T_0a2d4d86_c02d_11e7_86e9_204747768c7brow1_col3\" class=\"data row1 col3\" >trained without numeric weather features</td> \n",
       "    </tr>    <tr> \n",
       "        <th id=\"T_0a2d4d86_c02d_11e7_86e9_204747768c7blevel0_row2\" class=\"row_heading level0 row2\" >2</th> \n",
       "        <td id=\"T_0a2d4d86_c02d_11e7_86e9_204747768c7brow2_col0\" class=\"data row2 col0\" >SVM version 2</td> \n",
       "        <td id=\"T_0a2d4d86_c02d_11e7_86e9_204747768c7brow2_col1\" class=\"data row2 col1\" >result_fastsvm.csv_ver4_log_interp</td> \n",
       "        <td id=\"T_0a2d4d86_c02d_11e7_86e9_204747768c7brow2_col2\" class=\"data row2 col2\" >0.10286</td> \n",
       "        <td id=\"T_0a2d4d86_c02d_11e7_86e9_204747768c7brow2_col3\" class=\"data row2 col3\" >trained with numeric weather features</td> \n",
       "    </tr>    <tr> \n",
       "        <th id=\"T_0a2d4d86_c02d_11e7_86e9_204747768c7blevel0_row3\" class=\"row_heading level0 row3\" >3</th> \n",
       "        <td id=\"T_0a2d4d86_c02d_11e7_86e9_204747768c7brow3_col0\" class=\"data row3 col0\" >Decision Tree</td> \n",
       "        <td id=\"T_0a2d4d86_c02d_11e7_86e9_204747768c7brow3_col1\" class=\"data row3 col1\" >result_tree_ver2.csv</td> \n",
       "        <td id=\"T_0a2d4d86_c02d_11e7_86e9_204747768c7brow3_col2\" class=\"data row3 col2\" >0.11461</td> \n",
       "        <td id=\"T_0a2d4d86_c02d_11e7_86e9_204747768c7brow3_col3\" class=\"data row3 col3\" >None</td> \n",
       "    </tr>    <tr> \n",
       "        <th id=\"T_0a2d4d86_c02d_11e7_86e9_204747768c7blevel0_row4\" class=\"row_heading level0 row4\" >4</th> \n",
       "        <td id=\"T_0a2d4d86_c02d_11e7_86e9_204747768c7brow4_col0\" class=\"data row4 col0\" >Random Forest</td> \n",
       "        <td id=\"T_0a2d4d86_c02d_11e7_86e9_204747768c7brow4_col1\" class=\"data row4 col1\" >result_rf.csv</td> \n",
       "        <td id=\"T_0a2d4d86_c02d_11e7_86e9_204747768c7brow4_col2\" class=\"data row4 col2\" >0.13851</td> \n",
       "        <td id=\"T_0a2d4d86_c02d_11e7_86e9_204747768c7brow4_col3\" class=\"data row4 col3\" >None</td> \n",
       "    </tr>    <tr> \n",
       "        <th id=\"T_0a2d4d86_c02d_11e7_86e9_204747768c7blevel0_row5\" class=\"row_heading level0 row5\" >5</th> \n",
       "        <td id=\"T_0a2d4d86_c02d_11e7_86e9_204747768c7brow5_col0\" class=\"data row5 col0\" >Deep Neuro Network</td> \n",
       "        <td id=\"T_0a2d4d86_c02d_11e7_86e9_204747768c7brow5_col1\" class=\"data row5 col1\" >result_dnn.csv_ver2</td> \n",
       "        <td id=\"T_0a2d4d86_c02d_11e7_86e9_204747768c7brow5_col2\" class=\"data row5 col2\" >0.14245</td> \n",
       "        <td id=\"T_0a2d4d86_c02d_11e7_86e9_204747768c7brow5_col3\" class=\"data row5 col3\" >None</td> \n",
       "    </tr></tbody> \n",
       "</table> "
      ],
      "text/plain": [
       "<pandas.io.formats.style.Styler at 0x7f26223b2a10>"
      ]
     },
     "execution_count": 19,
     "metadata": {},
     "output_type": "execute_result"
    }
   ],
   "source": [
    "result_dict = [\n",
    "    {'Algorithm Name':'Base Submission','RMSLE score': 0.11701, 'Training Note': 'result by a simple interpolation, inital start point of training', 'File name':'result_0_new.csv'\n",
    "    },\n",
    "    {'Algorithm Name':'SVM version 1','RMSLE score': 0.12024, 'Training Note': 'trained without numeric weather features', 'File name':'result_fastsvm.csv_ver3_interp'\n",
    "    },\n",
    "    {'Algorithm Name':'SVM version 2','RMSLE score': 0.10286, 'Training Note': 'trained with numeric weather features', 'File name':'result_fastsvm.csv_ver4_log_interp'\n",
    "    },\n",
    "    {'Algorithm Name':'Decision Tree','RMSLE score': 0.11461, 'Training Note': 'None', 'File name':'result_tree_ver2.csv'\n",
    "    },\n",
    "    {'Algorithm Name':'Random Forest','RMSLE score': 0.13851, 'Training Note': 'None', 'File name':'result_rf.csv'\n",
    "    },\n",
    "    {'Algorithm Name':'Deep Neural Network','RMSLE score': 0.14245, 'Training Note': 'None', 'File name':'result_dnn.csv_ver2'\n",
    "    }\n",
    "]\n",
    "\n",
    "from pandas.io.json import json_normalize\n",
    "\n",
    "A = json_normalize(result_dict)\n",
    "\n",
    "A.style.bar(subset=['RMSLE score'], align='mid', color=['orange'])"
   ]
  },
  {
   "cell_type": "markdown",
   "metadata": {},
   "source": [
    "Using its default kernel \"rbf\", SVM gives better performance than the rest of the algorithm. Decision tree and random forest give slightly worse results, and deep neural network does not work so well on this project.\n",
    "\n",
    "The best result given by SVM put me in rank 80/485 among all the participants. The leaderboard for this competition can be found at https://www.kaggle.com/c/walmart-recruiting-sales-in-stormy-weather/leaderboard. "
   ]
  },
  {
   "cell_type": "code",
   "execution_count": null,
   "metadata": {
    "collapsed": true
   },
   "outputs": [],
   "source": []
  }
 ],
 "metadata": {
  "kernelspec": {
   "display_name": "Python 2",
   "language": "python",
   "name": "python2"
  },
  "language_info": {
   "codemirror_mode": {
    "name": "ipython",
    "version": 2
   },
   "file_extension": ".py",
   "mimetype": "text/x-python",
   "name": "python",
   "nbconvert_exporter": "python",
   "pygments_lexer": "ipython2",
   "version": "2.7.13"
  }
 },
 "nbformat": 4,
 "nbformat_minor": 2
}
