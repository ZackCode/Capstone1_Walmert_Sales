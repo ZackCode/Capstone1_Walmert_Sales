{
 "cells": [
  {
   "cell_type": "code",
   "execution_count": 1,
   "metadata": {},
   "outputs": [
    {
     "name": "stdout",
     "output_type": "stream",
     "text": [
      "(4617600, 29)\n",
      "(526917, 29)\n",
      "   Unnamed: 0        date  store_nbr  item_nbr  station_nbr  tmax  tmin  tavg  \\\n",
      "0           0  2013-06-04          1         1            1  70.0  53.0  62.0   \n",
      "1           1  2013-06-05          1         1            1  75.0  50.0  63.0   \n",
      "2           2  2013-06-06          1         1            1  74.0  54.0  64.0   \n",
      "3           3  2013-06-07          1         1            1  58.0  54.0  56.0   \n",
      "4           4  2013-06-08          1         1            1  79.0  54.0  67.0   \n",
      "\n",
      "   depart  dewpoint  ...    sealevel  resultspeed  resultdir  avgspeed     RA  \\\n",
      "0     NaN      42.0  ...       29.96          7.3       31.0       8.0  False   \n",
      "1     NaN      46.0  ...       30.15          1.9       25.0       4.8  False   \n",
      "2     NaN      50.0  ...       30.16          3.2       12.0       4.5   True   \n",
      "3     NaN      52.0  ...       30.02          8.4        6.0       8.7   True   \n",
      "4     NaN      56.0  ...       29.82          4.8       32.0       8.6   True   \n",
      "\n",
      "      SN  Condition  WEvent  train  units  \n",
      "0  False      False   False      0    NaN  \n",
      "1  False      False   False      0    NaN  \n",
      "2  False      False   False      0    NaN  \n",
      "3  False       True    True      0    NaN  \n",
      "4  False      False    True      0    NaN  \n",
      "\n",
      "[5 rows x 29 columns]\n"
     ]
    }
   ],
   "source": [
    "import pandas as pd\n",
    "import numpy as np\n",
    "import sys\n",
    "import re\n",
    "import os\n",
    "\n",
    "\n",
    "df_ordered = pd.read_csv(\"../code/ordered.csv\")\n",
    "df_ordered['train'] = 1\n",
    "df_orderedtest = pd.read_csv(\"../code/ordered_test.csv\")\n",
    "df_orderedtest['train']=0\n",
    "df_orderedtest['units']=np.nan #last version0\n",
    "\n",
    "print df_ordered.shape\n",
    "print df_orderedtest.shape\n",
    "\n",
    "print df_orderedtest.head()\n",
    "\n",
    "df_main = pd.concat([df_ordered,df_orderedtest])\n",
    "#df_main = df_main.drop(['Unnamed: 0','station_nbr','tmax','tmin','depart','dewpoint','wetbulb','heat','cool','sunrise','sunset','codesum','snowfall','stnpressure','sealevel','resultspeed'],axis=1)\n",
    "df_main = df_main.drop(['Unnamed: 0','station_nbr','tmax','tmin','depart','dewpoint','wetbulb','heat','cool','sunrise','sunset','codesum','snowfall','stnpressure','sealevel','resultspeed','avgspeed','preciptotal','resultdir','tavg'],axis=1)\n",
    "df_ordered = []\n",
    "df_orderedtest = []"
   ]
  },
  {
   "cell_type": "code",
   "execution_count": 2,
   "metadata": {},
   "outputs": [
    {
     "name": "stderr",
     "output_type": "stream",
     "text": [
      "/home/zexi/anaconda2/lib/python2.7/site-packages/ipykernel/__main__.py:4: FutureWarning: pd.rolling_mean is deprecated for Series and will be removed in a future version, replace with \n",
      "\tSeries.rolling(window=3,center=False).mean()\n",
      "/home/zexi/anaconda2/lib/python2.7/site-packages/ipykernel/__main__.py:5: FutureWarning: pd.rolling_mean is deprecated for Series and will be removed in a future version, replace with \n",
      "\tSeries.rolling(window=3,center=False).mean()\n",
      "/home/zexi/anaconda2/lib/python2.7/site-packages/ipykernel/__main__.py:7: FutureWarning: pd.rolling_mean is deprecated for Series and will be removed in a future version, replace with \n",
      "\tSeries.rolling(window=6,center=False).mean()\n",
      "/home/zexi/anaconda2/lib/python2.7/site-packages/ipykernel/__main__.py:8: FutureWarning: pd.rolling_mean is deprecated for Series and will be removed in a future version, replace with \n",
      "\tSeries.rolling(window=6,center=False).mean()\n"
     ]
    }
   ],
   "source": [
    "df_main = df_main.sort_values(['store_nbr','item_nbr','date']).reset_index(drop=True)\n",
    "df_main['units'] = df_main['units'].interpolate() #added\n",
    "\n",
    "df_main['Before_Event'] = (pd.rolling_mean(df_main['Condition'], window=3).shift(-3) > 0)\n",
    "df_main['After_Event'] = (pd.rolling_mean(df_main['Condition'], window=3).shift(1) > 0)\n",
    "\n",
    "df_main['Before_Sales'] = pd.rolling_mean(df_main['units'], window=6).shift(-6)\n",
    "df_main['After_Sales'] = pd.rolling_mean(df_main['units'], window=6).shift(1)\n",
    "\n",
    "item_nbr_list = list(set(df_main['item_nbr']))\n",
    "store_nbr_list = list(set(df_main['store_nbr']))\n",
    "\n",
    "df_ordered = df_main.loc[(df_main['train'] == 1)].reset_index(drop=True)\n",
    "df_orderedtest = df_main.loc[(df_main['train'] == 0)].reset_index(drop=True)"
   ]
  },
  {
   "cell_type": "code",
   "execution_count": 3,
   "metadata": {},
   "outputs": [
    {
     "name": "stdout",
     "output_type": "stream",
     "text": [
      "(4617600, 13)\n",
      "(526917, 13)\n",
      "   Condition     RA     SN  WEvent        date  item_nbr  store_nbr  train  \\\n",
      "0      False  False  False   False  2013-06-04         1          1      0   \n",
      "1      False  False  False   False  2013-06-05         1          1      0   \n",
      "2      False   True  False   False  2013-06-06         1          1      0   \n",
      "3       True   True  False    True  2013-06-07         1          1      0   \n",
      "4      False   True  False    True  2013-06-08         1          1      0   \n",
      "\n",
      "   units  Before_Event  After_Event  Before_Sales  After_Sales  \n",
      "0    0.0          True        False           0.0          0.0  \n",
      "1    0.0          True        False           0.0          0.0  \n",
      "2    0.0          True        False           0.0          0.0  \n",
      "3    0.0         False        False           0.0          0.0  \n",
      "4    0.0         False         True           0.0          0.0  \n"
     ]
    }
   ],
   "source": [
    "print df_ordered.shape\n",
    "print df_orderedtest.shape\n",
    "print df_orderedtest.head()"
   ]
  },
  {
   "cell_type": "code",
   "execution_count": 4,
   "metadata": {
    "collapsed": true
   },
   "outputs": [],
   "source": [
    "df_ordered['year'] = pd.to_datetime(df_ordered['date'], infer_datetime_format=True).dt.year\n",
    "df_ordered['month'] = pd.to_datetime(df_ordered['date'], infer_datetime_format=True).dt.month\n",
    "df_ordered['weekday'] = pd.to_datetime(df_ordered['date'], infer_datetime_format=True).dt.weekday\n",
    "\n",
    "df_orderedtest['year'] = pd.to_datetime(df_orderedtest['date'], infer_datetime_format=True).dt.year\n",
    "df_orderedtest['month'] = pd.to_datetime(df_orderedtest['date'], infer_datetime_format=True).dt.month\n",
    "df_orderedtest['weekday'] = pd.to_datetime(df_orderedtest['date'], infer_datetime_format=True).dt.weekday\n",
    "\n",
    "\n",
    "## drop unused columns\n",
    "\n",
    "## get_dummies\n",
    "\n",
    "df_ordered = pd.get_dummies(df_ordered, columns=['year','month','weekday'])\n",
    "df_ordered = df_ordered.drop(['date'],axis=1)\n",
    "\n",
    "df_orderedtest = pd.get_dummies(df_orderedtest, columns=['year','month','weekday'])\n",
    "\n",
    "df_orderedtest['id'] = df_orderedtest['store_nbr'].astype(str) + '_' + df_orderedtest['item_nbr'].astype(str) + '_' + df_orderedtest['date'].astype(str)\n",
    "df_orderedtest = df_orderedtest.set_index('id')\n",
    "\n",
    "df_orderedtest = df_orderedtest.drop(['date'],axis=1)\n",
    "\n",
    "\n",
    "# why not\n",
    "result = df_orderedtest['units']\n",
    "result = result.reset_index()\n",
    "mask = (result['units'] < 0)\n",
    "result.loc[mask,'units'] = 0\n",
    "result.to_csv(\"../code/result_0_new.csv\",sep=\",\",index=False)\n",
    "## train test split"
   ]
  },
  {
   "cell_type": "code",
   "execution_count": 5,
   "metadata": {
    "collapsed": true
   },
   "outputs": [],
   "source": [
    "item_nbr_list = list(set(df_ordered['item_nbr']))\n",
    "store_nbr_list = list(set(df_ordered['store_nbr']))\n",
    "\n",
    "#df_orderedtest.insert(12, 'year_2012', 0) # this one is right\n",
    "df_orderedtest.insert(12, 'year_2012', 0)\n",
    "df_ordered['units'] = df_ordered['units'].apply(lambda x: np.log(x+1)) #  new ver4\n",
    "df_orderedtest['units'] = df_orderedtest['units'].apply(lambda x: np.log(x+1)) # new ver4"
   ]
  },
  {
   "cell_type": "code",
   "execution_count": 6,
   "metadata": {},
   "outputs": [
    {
     "name": "stdout",
     "output_type": "stream",
     "text": [
      "Index([u'Condition', u'RA', u'SN', u'WEvent', u'item_nbr', u'store_nbr',\n",
      "       u'train', u'units', u'Before_Event', u'After_Event', u'Before_Sales',\n",
      "       u'After_Sales', u'year_2012', u'year_2013', u'year_2014', u'month_1',\n",
      "       u'month_2', u'month_3', u'month_4', u'month_5', u'month_6', u'month_7',\n",
      "       u'month_8', u'month_9', u'month_10', u'month_11', u'month_12',\n",
      "       u'weekday_0', u'weekday_1', u'weekday_2', u'weekday_3', u'weekday_4',\n",
      "       u'weekday_5', u'weekday_6'],\n",
      "      dtype='object')\n",
      "Index([u'Condition', u'RA', u'SN', u'WEvent', u'item_nbr', u'store_nbr',\n",
      "       u'train', u'units', u'Before_Event', u'After_Event', u'Before_Sales',\n",
      "       u'After_Sales', u'year_2012', u'year_2013', u'year_2014', u'month_1',\n",
      "       u'month_2', u'month_3', u'month_4', u'month_5', u'month_6', u'month_7',\n",
      "       u'month_8', u'month_9', u'month_10', u'month_11', u'month_12',\n",
      "       u'weekday_0', u'weekday_1', u'weekday_2', u'weekday_3', u'weekday_4',\n",
      "       u'weekday_5', u'weekday_6'],\n",
      "      dtype='object')\n"
     ]
    }
   ],
   "source": [
    "\n",
    "print df_ordered.columns\n",
    "print df_orderedtest.columns"
   ]
  },
  {
   "cell_type": "code",
   "execution_count": 13,
   "metadata": {},
   "outputs": [
    {
     "name": "stdout",
     "output_type": "stream",
     "text": [
      "1\n",
      "2\n",
      "3\n",
      "4\n",
      "5\n",
      "6\n",
      "7\n",
      "8\n",
      "9\n",
      "10\n",
      "11\n",
      "12\n",
      "13\n",
      "14\n",
      "15\n",
      "16\n",
      "17\n",
      "18\n",
      "19\n",
      "20\n",
      "21\n",
      "22\n",
      "23\n",
      "24\n",
      "25\n",
      "26\n",
      "27\n",
      "28\n",
      "29\n",
      "30\n",
      "31\n",
      "32\n",
      "33\n",
      "34\n",
      "35\n",
      "36\n",
      "37\n",
      "38\n",
      "39\n",
      "40\n",
      "41\n",
      "42\n",
      "43\n",
      "44\n",
      "45\n"
     ]
    }
   ],
   "source": [
    "from sklearn.preprocessing import MinMaxScaler\n",
    "from collections import defaultdict\n",
    "from sklearn.svm import SVR\n",
    "\n",
    "paras = []\n",
    "paras5 = []\n",
    "paras9 = []\n",
    "paras45 = []\n",
    "paras47 = []\n",
    "paras68 = []\n",
    "store1 = []\n",
    "store2 = []\n",
    "store3 = []\n",
    "\n",
    "for store in store_nbr_list:\n",
    "    for item in item_nbr_list:\n",
    "        mask = ((df_ordered['item_nbr'] == item) & (df_ordered['store_nbr'] == store))\n",
    "        y_train = df_ordered.loc[mask,'units']\n",
    "        X_train = df_ordered.loc[mask,df_ordered.columns != 'units']\n",
    "        \n",
    "        mask = ((df_orderedtest['item_nbr'] == item) & (df_orderedtest['store_nbr'] == store))\n",
    "        X_test = df_orderedtest.loc[mask,df_orderedtest.columns != 'units']\n",
    "        \n",
    "        if X_test.empty == 0:\n",
    "            if y_train.max() != 0:\n",
    "       \n",
    "                scaling = MinMaxScaler(feature_range=(0,1)).fit(X_train)\n",
    "                X_train = scaling.transform(X_train)\n",
    "                X_test = scaling.transform(X_test)\n",
    "        \n",
    "                svr = SVR(kernel='linear')\n",
    "                #svr = SVR()\n",
    "                #svr = SVR(kernel='rbf', C=100.0, gamma=10.0)\n",
    "                svr.fit(X_train, y_train)\n",
    "                df_orderedtest.loc[mask,'units'] = svr.predict(X_test)\n",
    "                \n",
    "                paras.append(svr.coef_)\n",
    "                if item == 5:\n",
    "                    paras5.append(svr.coef_)\n",
    "                if item == 9:\n",
    "                    paras9.append(svr.coef_)\n",
    "                if item == 45:\n",
    "                    paras45.append(svr.coef_)\n",
    "                if item == 48:\n",
    "                    paras47.append(svr.coef_)\n",
    "                if item == 68:\n",
    "                    paras68.append(svr.coef_)\n",
    "                if item == 16:\n",
    "                    store1.append(svr.coef_)\n",
    "                if item == 44:\n",
    "                    store2.append(svr.coef_)\n",
    "                if item == 51:\n",
    "                    store3.append(svr.coef_)\n",
    "                \n",
    "    print store\n",
    "\n",
    "df_ordered['units'] = df_ordered['units'].apply(lambda x: np.exp(x)-1)\n",
    "df_orderedtest['units'] = df_orderedtest['units'].apply(lambda x: np.exp(x)-1)\n",
    "result = df_orderedtest['units']\n",
    "result = result.reset_index()\n",
    "mask = (result['units'] < 0)\n",
    "result.loc[mask,'units'] = 0\n",
    "result.to_csv(\"../code/result_fastsvm.csv_v5\",sep=\",\",index=False)"
   ]
  },
  {
   "cell_type": "code",
   "execution_count": 17,
   "metadata": {},
   "outputs": [
    {
     "name": "stdout",
     "output_type": "stream",
     "text": [
      "[]\n"
     ]
    },
    {
     "ename": "IndexError",
     "evalue": "invalid index to scalar variable.",
     "output_type": "error",
     "traceback": [
      "\u001b[0;31m\u001b[0m",
      "\u001b[0;31mIndexError\u001b[0mTraceback (most recent call last)",
      "\u001b[0;32m<ipython-input-17-4426be3c56a9>\u001b[0m in \u001b[0;36m<module>\u001b[0;34m()\u001b[0m\n\u001b[1;32m      1\u001b[0m \u001b[0;32mprint\u001b[0m \u001b[0mstore3\u001b[0m\u001b[0;34m\u001b[0m\u001b[0m\n\u001b[0;32m----> 2\u001b[0;31m \u001b[0ma\u001b[0m \u001b[0;34m=\u001b[0m \u001b[0mnp\u001b[0m\u001b[0;34m.\u001b[0m\u001b[0mmean\u001b[0m\u001b[0;34m(\u001b[0m\u001b[0mstore3\u001b[0m\u001b[0;34m,\u001b[0m\u001b[0;36m0\u001b[0m\u001b[0;34m)\u001b[0m\u001b[0;34m[\u001b[0m\u001b[0;36m0\u001b[0m\u001b[0;34m]\u001b[0m\u001b[0;34m\u001b[0m\u001b[0m\n\u001b[0m\u001b[1;32m      3\u001b[0m \u001b[0;34m\u001b[0m\u001b[0m\n\u001b[1;32m      4\u001b[0m \u001b[0mdf_re\u001b[0m \u001b[0;34m=\u001b[0m \u001b[0mpd\u001b[0m\u001b[0;34m.\u001b[0m\u001b[0mDataFrame\u001b[0m\u001b[0;34m(\u001b[0m\u001b[0;34m{\u001b[0m\u001b[0;34m'value'\u001b[0m\u001b[0;34m:\u001b[0m \u001b[0ma\u001b[0m\u001b[0;34m,\u001b[0m \u001b[0;34m'name'\u001b[0m\u001b[0;34m:\u001b[0m \u001b[0mX_train\u001b[0m\u001b[0;34m.\u001b[0m\u001b[0mcolumns\u001b[0m\u001b[0;34m,\u001b[0m \u001b[0;34m'abs'\u001b[0m\u001b[0;34m:\u001b[0m \u001b[0mabs\u001b[0m\u001b[0;34m(\u001b[0m\u001b[0ma\u001b[0m\u001b[0;34m)\u001b[0m\u001b[0;34m}\u001b[0m\u001b[0;34m)\u001b[0m\u001b[0;34m\u001b[0m\u001b[0m\n\u001b[1;32m      5\u001b[0m \u001b[0;34m\u001b[0m\u001b[0m\n",
      "\u001b[0;31mIndexError\u001b[0m: invalid index to scalar variable."
     ]
    }
   ],
   "source": [
    "print store3\n",
    "a = np.mean(store3,0)[0]\n",
    "\n",
    "df_re = pd.DataFrame({'value': a, 'name': X_train.columns, 'abs': abs(a)})\n",
    "\n",
    "df_re.sort_values(by='abs', ascending=False)"
   ]
  },
  {
   "cell_type": "code",
   "execution_count": 9,
   "metadata": {},
   "outputs": [
    {
     "name": "stdout",
     "output_type": "stream",
     "text": [
      "1\n",
      "2\n",
      "3\n",
      "4\n",
      "5\n",
      "6\n",
      "7\n",
      "8\n",
      "9\n",
      "10\n",
      "11\n",
      "12\n",
      "13\n",
      "14\n",
      "15\n",
      "16\n",
      "17\n",
      "18\n",
      "19\n",
      "20\n",
      "21\n",
      "22\n",
      "23\n",
      "24\n",
      "25\n",
      "26\n",
      "27\n",
      "28\n",
      "29\n",
      "30\n",
      "31\n",
      "32\n",
      "33\n",
      "34\n",
      "35\n",
      "36\n",
      "37\n",
      "38\n",
      "39\n",
      "40\n",
      "41\n",
      "42\n",
      "43\n",
      "44\n",
      "45\n"
     ]
    }
   ],
   "source": [
    "import gc\n",
    "import tensorflow as tf\n",
    "import tensorflow.contrib.learn as skflow\n",
    "import itertools \n",
    "\n",
    "tf.logging.set_verbosity(tf.logging.ERROR)\n",
    "\n",
    "for store in store_nbr_list:\n",
    "    for item in item_nbr_list:\n",
    "        mask = ((df_ordered['item_nbr'] == item) & (df_ordered['store_nbr'] == store))\n",
    "        y_train = df_ordered.loc[mask,'units']\n",
    "        X_train = df_ordered.loc[mask,df_ordered.columns != 'units']\n",
    "        \n",
    "        mask = ((df_orderedtest['item_nbr'] == item) & (df_orderedtest['store_nbr'] == store))\n",
    "        X_test = df_orderedtest.loc[mask,df_orderedtest.columns != 'units']\n",
    "        \n",
    "        if X_test.empty == 0:\n",
    "            if y_train.max() != 0:\n",
    "       \n",
    "                scaling = MinMaxScaler(feature_range=(0,1)).fit(X_train)\n",
    "                X_train = scaling.transform(X_train)\n",
    "                X_test = scaling.transform(X_test)\n",
    "                \n",
    "                reg3 = skflow.DNNRegressor(\n",
    "                    feature_columns = tf.contrib.learn.infer_real_valued_columns_from_input(X_train),\n",
    "                    hidden_units=[33,33,33],\n",
    "                    optimizer='Adam')\n",
    "\n",
    "                reg3.fit(X_train,y_train, steps = 2000, batch_size = 300)\n",
    "                y_predict = reg3.predict(X_test)\n",
    "                predictions = list(itertools.islice(y_predict, len(df_orderedtest.loc[mask,'units'])))\n",
    "                df_orderedtest.loc[mask,'units'] = predictions\n",
    "        \n",
    "    print store\n",
    "\n",
    "result = df_orderedtest['units']\n",
    "result = result.reset_index()\n",
    "mask = (result['units'] < 0)\n",
    "result.loc[mask,'units'] = 0\n",
    "result.to_csv(\"../code/result_dnn.csv_ver2\",sep=\",\",index=False)"
   ]
  },
  {
   "cell_type": "code",
   "execution_count": null,
   "metadata": {
    "collapsed": true
   },
   "outputs": [],
   "source": []
  }
 ],
 "metadata": {
  "kernelspec": {
   "display_name": "Python 2",
   "language": "python",
   "name": "python2"
  },
  "language_info": {
   "codemirror_mode": {
    "name": "ipython",
    "version": 2
   },
   "file_extension": ".py",
   "mimetype": "text/x-python",
   "name": "python",
   "nbconvert_exporter": "python",
   "pygments_lexer": "ipython2",
   "version": "2.7.13"
  }
 },
 "nbformat": 4,
 "nbformat_minor": 2
}
