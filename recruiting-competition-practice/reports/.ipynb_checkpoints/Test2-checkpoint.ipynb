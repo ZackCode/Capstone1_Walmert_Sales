{
 "cells": [
  {
   "cell_type": "code",
   "execution_count": 1,
   "metadata": {},
   "outputs": [
    {
     "ename": "KeyboardInterrupt",
     "evalue": "",
     "output_type": "error",
     "traceback": [
      "\u001b[0;31m\u001b[0m",
      "\u001b[0;31mKeyboardInterrupt\u001b[0mTraceback (most recent call last)",
      "\u001b[0;32m<ipython-input-1-d6ceed39fff6>\u001b[0m in \u001b[0;36m<module>\u001b[0;34m()\u001b[0m\n\u001b[1;32m      6\u001b[0m \u001b[0;34m\u001b[0m\u001b[0m\n\u001b[1;32m      7\u001b[0m \u001b[0;34m\u001b[0m\u001b[0m\n\u001b[0;32m----> 8\u001b[0;31m \u001b[0mdf_ordered\u001b[0m \u001b[0;34m=\u001b[0m \u001b[0mpd\u001b[0m\u001b[0;34m.\u001b[0m\u001b[0mread_csv\u001b[0m\u001b[0;34m(\u001b[0m\u001b[0;34m\"../code/ordered.csv\"\u001b[0m\u001b[0;34m)\u001b[0m\u001b[0;34m\u001b[0m\u001b[0m\n\u001b[0m\u001b[1;32m      9\u001b[0m \u001b[0mdf_ordered\u001b[0m\u001b[0;34m[\u001b[0m\u001b[0;34m'train'\u001b[0m\u001b[0;34m]\u001b[0m \u001b[0;34m=\u001b[0m \u001b[0;36m1\u001b[0m\u001b[0;34m\u001b[0m\u001b[0m\n\u001b[1;32m     10\u001b[0m \u001b[0mdf_orderedtest\u001b[0m \u001b[0;34m=\u001b[0m \u001b[0mpd\u001b[0m\u001b[0;34m.\u001b[0m\u001b[0mread_csv\u001b[0m\u001b[0;34m(\u001b[0m\u001b[0;34m\"../code/ordered_test.csv\"\u001b[0m\u001b[0;34m)\u001b[0m\u001b[0;34m\u001b[0m\u001b[0m\n",
      "\u001b[0;32m/home/zexi/anaconda2/lib/python2.7/site-packages/pandas/io/parsers.pyc\u001b[0m in \u001b[0;36mparser_f\u001b[0;34m(filepath_or_buffer, sep, delimiter, header, names, index_col, usecols, squeeze, prefix, mangle_dupe_cols, dtype, engine, converters, true_values, false_values, skipinitialspace, skiprows, nrows, na_values, keep_default_na, na_filter, verbose, skip_blank_lines, parse_dates, infer_datetime_format, keep_date_col, date_parser, dayfirst, iterator, chunksize, compression, thousands, decimal, lineterminator, quotechar, quoting, escapechar, comment, encoding, dialect, tupleize_cols, error_bad_lines, warn_bad_lines, skipfooter, skip_footer, doublequote, delim_whitespace, as_recarray, compact_ints, use_unsigned, low_memory, buffer_lines, memory_map, float_precision)\u001b[0m\n\u001b[1;32m    653\u001b[0m                     skip_blank_lines=skip_blank_lines)\n\u001b[1;32m    654\u001b[0m \u001b[0;34m\u001b[0m\u001b[0m\n\u001b[0;32m--> 655\u001b[0;31m         \u001b[0;32mreturn\u001b[0m \u001b[0m_read\u001b[0m\u001b[0;34m(\u001b[0m\u001b[0mfilepath_or_buffer\u001b[0m\u001b[0;34m,\u001b[0m \u001b[0mkwds\u001b[0m\u001b[0;34m)\u001b[0m\u001b[0;34m\u001b[0m\u001b[0m\n\u001b[0m\u001b[1;32m    656\u001b[0m \u001b[0;34m\u001b[0m\u001b[0m\n\u001b[1;32m    657\u001b[0m     \u001b[0mparser_f\u001b[0m\u001b[0;34m.\u001b[0m\u001b[0m__name__\u001b[0m \u001b[0;34m=\u001b[0m \u001b[0mname\u001b[0m\u001b[0;34m\u001b[0m\u001b[0m\n",
      "\u001b[0;32m/home/zexi/anaconda2/lib/python2.7/site-packages/pandas/io/parsers.pyc\u001b[0m in \u001b[0;36m_read\u001b[0;34m(filepath_or_buffer, kwds)\u001b[0m\n\u001b[1;32m    409\u001b[0m \u001b[0;34m\u001b[0m\u001b[0m\n\u001b[1;32m    410\u001b[0m     \u001b[0;32mtry\u001b[0m\u001b[0;34m:\u001b[0m\u001b[0;34m\u001b[0m\u001b[0m\n\u001b[0;32m--> 411\u001b[0;31m         \u001b[0mdata\u001b[0m \u001b[0;34m=\u001b[0m \u001b[0mparser\u001b[0m\u001b[0;34m.\u001b[0m\u001b[0mread\u001b[0m\u001b[0;34m(\u001b[0m\u001b[0mnrows\u001b[0m\u001b[0;34m)\u001b[0m\u001b[0;34m\u001b[0m\u001b[0m\n\u001b[0m\u001b[1;32m    412\u001b[0m     \u001b[0;32mfinally\u001b[0m\u001b[0;34m:\u001b[0m\u001b[0;34m\u001b[0m\u001b[0m\n\u001b[1;32m    413\u001b[0m         \u001b[0mparser\u001b[0m\u001b[0;34m.\u001b[0m\u001b[0mclose\u001b[0m\u001b[0;34m(\u001b[0m\u001b[0;34m)\u001b[0m\u001b[0;34m\u001b[0m\u001b[0m\n",
      "\u001b[0;32m/home/zexi/anaconda2/lib/python2.7/site-packages/pandas/io/parsers.pyc\u001b[0m in \u001b[0;36mread\u001b[0;34m(self, nrows)\u001b[0m\n\u001b[1;32m   1003\u001b[0m                 \u001b[0;32mraise\u001b[0m \u001b[0mValueError\u001b[0m\u001b[0;34m(\u001b[0m\u001b[0;34m'skipfooter not supported for iteration'\u001b[0m\u001b[0;34m)\u001b[0m\u001b[0;34m\u001b[0m\u001b[0m\n\u001b[1;32m   1004\u001b[0m \u001b[0;34m\u001b[0m\u001b[0m\n\u001b[0;32m-> 1005\u001b[0;31m         \u001b[0mret\u001b[0m \u001b[0;34m=\u001b[0m \u001b[0mself\u001b[0m\u001b[0;34m.\u001b[0m\u001b[0m_engine\u001b[0m\u001b[0;34m.\u001b[0m\u001b[0mread\u001b[0m\u001b[0;34m(\u001b[0m\u001b[0mnrows\u001b[0m\u001b[0;34m)\u001b[0m\u001b[0;34m\u001b[0m\u001b[0m\n\u001b[0m\u001b[1;32m   1006\u001b[0m \u001b[0;34m\u001b[0m\u001b[0m\n\u001b[1;32m   1007\u001b[0m         \u001b[0;32mif\u001b[0m \u001b[0mself\u001b[0m\u001b[0;34m.\u001b[0m\u001b[0moptions\u001b[0m\u001b[0;34m.\u001b[0m\u001b[0mget\u001b[0m\u001b[0;34m(\u001b[0m\u001b[0;34m'as_recarray'\u001b[0m\u001b[0;34m)\u001b[0m\u001b[0;34m:\u001b[0m\u001b[0;34m\u001b[0m\u001b[0m\n",
      "\u001b[0;32m/home/zexi/anaconda2/lib/python2.7/site-packages/pandas/io/parsers.pyc\u001b[0m in \u001b[0;36mread\u001b[0;34m(self, nrows)\u001b[0m\n\u001b[1;32m   1746\u001b[0m     \u001b[0;32mdef\u001b[0m \u001b[0mread\u001b[0m\u001b[0;34m(\u001b[0m\u001b[0mself\u001b[0m\u001b[0;34m,\u001b[0m \u001b[0mnrows\u001b[0m\u001b[0;34m=\u001b[0m\u001b[0mNone\u001b[0m\u001b[0;34m)\u001b[0m\u001b[0;34m:\u001b[0m\u001b[0;34m\u001b[0m\u001b[0m\n\u001b[1;32m   1747\u001b[0m         \u001b[0;32mtry\u001b[0m\u001b[0;34m:\u001b[0m\u001b[0;34m\u001b[0m\u001b[0m\n\u001b[0;32m-> 1748\u001b[0;31m             \u001b[0mdata\u001b[0m \u001b[0;34m=\u001b[0m \u001b[0mself\u001b[0m\u001b[0;34m.\u001b[0m\u001b[0m_reader\u001b[0m\u001b[0;34m.\u001b[0m\u001b[0mread\u001b[0m\u001b[0;34m(\u001b[0m\u001b[0mnrows\u001b[0m\u001b[0;34m)\u001b[0m\u001b[0;34m\u001b[0m\u001b[0m\n\u001b[0m\u001b[1;32m   1749\u001b[0m         \u001b[0;32mexcept\u001b[0m \u001b[0mStopIteration\u001b[0m\u001b[0;34m:\u001b[0m\u001b[0;34m\u001b[0m\u001b[0m\n\u001b[1;32m   1750\u001b[0m             \u001b[0;32mif\u001b[0m \u001b[0mself\u001b[0m\u001b[0;34m.\u001b[0m\u001b[0m_first_chunk\u001b[0m\u001b[0;34m:\u001b[0m\u001b[0;34m\u001b[0m\u001b[0m\n",
      "\u001b[0;32mpandas/_libs/parsers.pyx\u001b[0m in \u001b[0;36mpandas._libs.parsers.TextReader.read (pandas/_libs/parsers.c:10862)\u001b[0;34m()\u001b[0m\n",
      "\u001b[0;32mpandas/_libs/parsers.pyx\u001b[0m in \u001b[0;36mpandas._libs.parsers.TextReader._read_low_memory (pandas/_libs/parsers.c:11138)\u001b[0;34m()\u001b[0m\n",
      "\u001b[0;32mpandas/_libs/parsers.pyx\u001b[0m in \u001b[0;36mpandas._libs.parsers.TextReader._read_rows (pandas/_libs/parsers.c:12175)\u001b[0;34m()\u001b[0m\n",
      "\u001b[0;32mpandas/_libs/parsers.pyx\u001b[0m in \u001b[0;36mpandas._libs.parsers.TextReader._convert_column_data (pandas/_libs/parsers.c:14136)\u001b[0;34m()\u001b[0m\n",
      "\u001b[0;32mpandas/_libs/parsers.pyx\u001b[0m in \u001b[0;36mpandas._libs.parsers.TextReader._convert_tokens (pandas/_libs/parsers.c:14858)\u001b[0;34m()\u001b[0m\n",
      "\u001b[0;32mpandas/_libs/parsers.pyx\u001b[0m in \u001b[0;36mpandas._libs.parsers.TextReader._convert_with_dtype (pandas/_libs/parsers.c:15629)\u001b[0;34m()\u001b[0m\n",
      "\u001b[0;32m/home/zexi/anaconda2/lib/python2.7/site-packages/pandas/core/dtypes/common.pyc\u001b[0m in \u001b[0;36mis_integer_dtype\u001b[0;34m(arr_or_dtype)\u001b[0m\n\u001b[1;32m    738\u001b[0m \u001b[0;34m\u001b[0m\u001b[0m\n\u001b[1;32m    739\u001b[0m \u001b[0;34m\u001b[0m\u001b[0m\n\u001b[0;32m--> 740\u001b[0;31m \u001b[0;32mdef\u001b[0m \u001b[0mis_integer_dtype\u001b[0m\u001b[0;34m(\u001b[0m\u001b[0marr_or_dtype\u001b[0m\u001b[0;34m)\u001b[0m\u001b[0;34m:\u001b[0m\u001b[0;34m\u001b[0m\u001b[0m\n\u001b[0m\u001b[1;32m    741\u001b[0m     \"\"\"\n\u001b[1;32m    742\u001b[0m     \u001b[0mCheck\u001b[0m \u001b[0mwhether\u001b[0m \u001b[0mthe\u001b[0m \u001b[0mprovided\u001b[0m \u001b[0marray\u001b[0m \u001b[0;32mor\u001b[0m \u001b[0mdtype\u001b[0m \u001b[0;32mis\u001b[0m \u001b[0mof\u001b[0m \u001b[0man\u001b[0m \u001b[0minteger\u001b[0m \u001b[0mdtype\u001b[0m\u001b[0;34m.\u001b[0m\u001b[0;34m\u001b[0m\u001b[0m\n",
      "\u001b[0;31mKeyboardInterrupt\u001b[0m: "
     ]
    }
   ],
   "source": [
    "import pandas as pd\n",
    "import numpy as np\n",
    "import sys\n",
    "import re\n",
    "import os\n",
    "\n",
    "\n",
    "df_ordered = pd.read_csv(\"../code/ordered.csv\")\n",
    "df_ordered['train'] = 1\n",
    "df_orderedtest = pd.read_csv(\"../code/ordered_test.csv\")\n",
    "df_orderedtest['train']=0\n",
    "df_orderedtest['units']=np.nan #last version0\n",
    "\n",
    "print df_ordered.shape\n",
    "print df_orderedtest.shape\n",
    "\n",
    "print df_orderedtest.head()\n",
    "\n",
    "df_main = pd.concat([df_ordered,df_orderedtest])\n",
    "#df_main = df_main.drop(['Unnamed: 0','station_nbr','tmax','tmin','depart','dewpoint','wetbulb','heat','cool','sunrise','sunset','codesum','snowfall','stnpressure','sealevel','resultspeed'],axis=1)\n",
    "df_main = df_main.drop(['Unnamed: 0','station_nbr','tmax','tmin','depart','dewpoint','wetbulb','heat','cool','sunrise','sunset','codesum','snowfall','stnpressure','sealevel','resultspeed','avgspeed','preciptotal','resultdir','tavg'],axis=1)\n",
    "df_ordered = []\n",
    "df_orderedtest = []"
   ]
  },
  {
   "cell_type": "code",
   "execution_count": null,
   "metadata": {},
   "outputs": [],
   "source": [
    "df_main = df_main.sort_values(['store_nbr','item_nbr','date']).reset_index(drop=True)\n",
    "df_main['units'] = df_main['units'].interpolate() #added\n",
    "\n",
    "df_main['Before_Event'] = (pd.rolling_mean(df_main['Condition'], window=3).shift(-3) > 0)\n",
    "df_main['After_Event'] = (pd.rolling_mean(df_main['Condition'], window=3).shift(1) > 0)\n",
    "\n",
    "df_main['Before_Sales'] = pd.rolling_mean(df_main['units'], window=6).shift(-6)\n",
    "df_main['After_Sales'] = pd.rolling_mean(df_main['units'], window=6).shift(1)\n",
    "\n",
    "item_nbr_list = list(set(df_main['item_nbr']))\n",
    "store_nbr_list = list(set(df_main['store_nbr']))\n",
    "\n",
    "df_ordered = df_main.loc[(df_main['train'] == 1)].reset_index(drop=True)\n",
    "df_orderedtest = df_main.loc[(df_main['train'] == 0)].reset_index(drop=True)"
   ]
  },
  {
   "cell_type": "code",
   "execution_count": null,
   "metadata": {},
   "outputs": [],
   "source": [
    "print df_ordered.shape\n",
    "print df_orderedtest.shape\n",
    "print df_orderedtest.head()"
   ]
  },
  {
   "cell_type": "code",
   "execution_count": null,
   "metadata": {
    "collapsed": true
   },
   "outputs": [],
   "source": [
    "df_ordered['year'] = pd.to_datetime(df_ordered['date'], infer_datetime_format=True).dt.year\n",
    "df_ordered['month'] = pd.to_datetime(df_ordered['date'], infer_datetime_format=True).dt.month\n",
    "df_ordered['weekday'] = pd.to_datetime(df_ordered['date'], infer_datetime_format=True).dt.weekday\n",
    "\n",
    "df_orderedtest['year'] = pd.to_datetime(df_orderedtest['date'], infer_datetime_format=True).dt.year\n",
    "df_orderedtest['month'] = pd.to_datetime(df_orderedtest['date'], infer_datetime_format=True).dt.month\n",
    "df_orderedtest['weekday'] = pd.to_datetime(df_orderedtest['date'], infer_datetime_format=True).dt.weekday\n",
    "\n",
    "\n",
    "## drop unused columns\n",
    "\n",
    "## get_dummies\n",
    "\n",
    "df_ordered = pd.get_dummies(df_ordered, columns=['year','month','weekday'])\n",
    "df_ordered = df_ordered.drop(['date'],axis=1)\n",
    "\n",
    "df_orderedtest = pd.get_dummies(df_orderedtest, columns=['year','month','weekday'])\n",
    "\n",
    "df_orderedtest['id'] = df_orderedtest['store_nbr'].astype(str) + '_' + df_orderedtest['item_nbr'].astype(str) + '_' + df_orderedtest['date'].astype(str)\n",
    "df_orderedtest = df_orderedtest.set_index('id')\n",
    "\n",
    "df_orderedtest = df_orderedtest.drop(['date'],axis=1)\n",
    "\n",
    "\n",
    "# why not\n",
    "result = df_orderedtest['units']\n",
    "result = result.reset_index()\n",
    "mask = (result['units'] < 0)\n",
    "result.loc[mask,'units'] = 0\n",
    "result.to_csv(\"../code/result_0_new.csv\",sep=\",\",index=False)\n",
    "## train test split"
   ]
  },
  {
   "cell_type": "code",
   "execution_count": null,
   "metadata": {
    "collapsed": true
   },
   "outputs": [],
   "source": [
    "item_nbr_list = list(set(df_ordered['item_nbr']))\n",
    "store_nbr_list = list(set(df_ordered['store_nbr']))\n",
    "\n",
    "#df_orderedtest.insert(12, 'year_2012', 0) # this one is right\n",
    "df_orderedtest.insert(12, 'year_2012', 0)\n",
    "df_ordered['units'] = df_ordered['units'].apply(lambda x: np.log(x+1)) #  new ver4\n",
    "df_orderedtest['units'] = df_orderedtest['units'].apply(lambda x: np.log(x+1)) # new ver4"
   ]
  },
  {
   "cell_type": "code",
   "execution_count": null,
   "metadata": {},
   "outputs": [],
   "source": [
    "\n",
    "print df_ordered.columns\n",
    "print df_orderedtest.columns"
   ]
  },
  {
   "cell_type": "code",
   "execution_count": null,
   "metadata": {
    "collapsed": true
   },
   "outputs": [],
   "source": [
    "for store in store_nbr_list:\n",
    "    for item in item_nbr_list:\n",
    "        mask = ((df_ordered['item_nbr'] == item) & (df_ordered['store_nbr'] == store))\n",
    "        y_train = df_ordered.loc[mask,'units']\n",
    "        X_train = df_ordered.loc[mask,df_ordered.columns != 'units']\n",
    "        \n",
    "        mask = ((df_orderedtest['item_nbr'] == item) & (df_orderedtest['store_nbr'] == store))\n",
    "        X_test = df_orderedtest.loc[mask,df_orderedtest.columns != 'units']\n",
    "        \n",
    "        if X_test.empty == 0:\n",
    "            if y_train.max() != 0:\n",
    "       \n",
    "                scaling = MinMaxScaler(feature_range=(0,1)).fit(X_train)\n",
    "                X_train = scaling.transform(X_train)\n",
    "                X_test = scaling.transform(X_test)\n",
    "        \n",
    "                svr = SVR()\n",
    "                #svr = SVR(kernel='rbf', C=100.0, gamma=10.0)\n",
    "                svr.fit(X_train, y_train)\n",
    "                df_orderedtest.loc[mask,'units'] = svr.predict(X_test)\n",
    "        \n",
    "    print store\n",
    "\n",
    "df_ordered['units'] = df_ordered['units'].apply(lambda x: np.exp(x)-1)\n",
    "df_orderedtest['units'] = df_orderedtest['units'].apply(lambda x: np.exp(x)-1)\n",
    "result = df_orderedtest['units']\n",
    "result = result.reset_index()\n",
    "mask = (result['units'] < 0)\n",
    "result.loc[mask,'units'] = 0\n",
    "result.to_csv(\"../code/result_fastsvm.csv_ver4_log_interp\",sep=\",\",index=False)"
   ]
  },
  {
   "cell_type": "code",
   "execution_count": null,
   "metadata": {},
   "outputs": [],
   "source": [
    "import gc\n",
    "import tensorflow as tf\n",
    "import tensorflow.contrib.learn as skflow\n",
    "import itertools \n",
    "\n",
    "tf.logging.set_verbosity(tf.logging.ERROR)\n",
    "\n",
    "for store in store_nbr_list:\n",
    "    for item in item_nbr_list:\n",
    "        mask = ((df_ordered['item_nbr'] == item) & (df_ordered['store_nbr'] == store))\n",
    "        y_train = df_ordered.loc[mask,'units']\n",
    "        X_train = df_ordered.loc[mask,df_ordered.columns != 'units']\n",
    "        \n",
    "        mask = ((df_orderedtest['item_nbr'] == item) & (df_orderedtest['store_nbr'] == store))\n",
    "        X_test = df_orderedtest.loc[mask,df_orderedtest.columns != 'units']\n",
    "        \n",
    "        if X_test.empty == 0:\n",
    "            if y_train.max() != 0:\n",
    "       \n",
    "                scaling = MinMaxScaler(feature_range=(0,1)).fit(X_train)\n",
    "                X_train = scaling.transform(X_train)\n",
    "                X_test = scaling.transform(X_test)\n",
    "                \n",
    "                reg3 = skflow.DNNRegressor(\n",
    "                    feature_columns = tf.contrib.learn.infer_real_valued_columns_from_input(X_train),\n",
    "                    hidden_units=[33,33,33],\n",
    "                    optimizer='Adam')\n",
    "\n",
    "                reg3.fit(X_train,y_train, steps = 2000, batch_size = 300)\n",
    "                y_predict = reg3.predict(X_test)\n",
    "                predictions = list(itertools.islice(y_predict, len(df_orderedtest.loc[mask,'units'])))\n",
    "                df_orderedtest.loc[mask,'units'] = predictions\n",
    "        \n",
    "    print store\n",
    "\n",
    "result = df_orderedtest['units']\n",
    "result = result.reset_index()\n",
    "mask = (result['units'] < 0)\n",
    "result.loc[mask,'units'] = 0\n",
    "result.to_csv(\"../code/result_dnn.csv_ver2\",sep=\",\",index=False)"
   ]
  },
  {
   "cell_type": "code",
   "execution_count": null,
   "metadata": {
    "collapsed": true
   },
   "outputs": [],
   "source": []
  }
 ],
 "metadata": {
  "kernelspec": {
   "display_name": "Python 2",
   "language": "python",
   "name": "python2"
  },
  "language_info": {
   "codemirror_mode": {
    "name": "ipython",
    "version": 2
   },
   "file_extension": ".py",
   "mimetype": "text/x-python",
   "name": "python",
   "nbconvert_exporter": "python",
   "pygments_lexer": "ipython2",
   "version": "2.7.13"
  }
 },
 "nbformat": 4,
 "nbformat_minor": 2
}
