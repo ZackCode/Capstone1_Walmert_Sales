{
 "cells": [
  {
   "cell_type": "code",
   "execution_count": 1,
   "metadata": {
    "collapsed": true
   },
   "outputs": [],
   "source": [
    "import pandas as pd\n",
    "import numpy as np\n",
    "import sys\n",
    "import re\n",
    "import os\n",
    "\n",
    "\n",
    "df_ordered = pd.read_csv(\"../code/ordered.csv\")\n",
    "df_ordered['train'] = 1\n",
    "df_orderedtest = pd.read_csv(\"../code/ordered_test.csv\")\n",
    "df_orderedtest['train']=0\n",
    "df_orderedtest['units']=0\n",
    "\n",
    "df_main = pd.concat([df_ordered,df_orderedtest])\n",
    "df_main = df_main.drop(['Unnamed: 0','station_nbr','tmax','tmin','depart','dewpoint','wetbulb','heat','cool','sunrise','sunset','codesum','snowfall','stnpressure','sealevel','resultspeed'],axis=1)\n",
    "\n",
    "df_ordered = []\n",
    "df_orderedtest = []"
   ]
  },
  {
   "cell_type": "code",
   "execution_count": 2,
   "metadata": {},
   "outputs": [
    {
     "name": "stderr",
     "output_type": "stream",
     "text": [
      "/home/zexi/anaconda2/lib/python2.7/site-packages/ipykernel/__main__.py:3: FutureWarning: pd.rolling_mean is deprecated for Series and will be removed in a future version, replace with \n",
      "\tSeries.rolling(window=3,center=False).mean()\n",
      "  app.launch_new_instance()\n",
      "/home/zexi/anaconda2/lib/python2.7/site-packages/ipykernel/__main__.py:4: FutureWarning: pd.rolling_mean is deprecated for Series and will be removed in a future version, replace with \n",
      "\tSeries.rolling(window=3,center=False).mean()\n",
      "/home/zexi/anaconda2/lib/python2.7/site-packages/ipykernel/__main__.py:6: FutureWarning: pd.rolling_mean is deprecated for Series and will be removed in a future version, replace with \n",
      "\tSeries.rolling(window=6,center=False).mean()\n",
      "/home/zexi/anaconda2/lib/python2.7/site-packages/ipykernel/__main__.py:7: FutureWarning: pd.rolling_mean is deprecated for Series and will be removed in a future version, replace with \n",
      "\tSeries.rolling(window=6,center=False).mean()\n"
     ]
    },
    {
     "name": "stdout",
     "output_type": "stream",
     "text": [
      "Index([u'Condition', u'RA', u'SN', u'WEvent', u'avgspeed', u'date',\n",
      "       u'item_nbr', u'preciptotal', u'resultdir', u'store_nbr', u'tavg',\n",
      "       u'train', u'units', u'Before_Event', u'After_Event', u'Before_Sales',\n",
      "       u'After_Sales'],\n",
      "      dtype='object')\n",
      "(5144517, 17)\n"
     ]
    }
   ],
   "source": [
    "df_main = df_main.sort_values(['store_nbr','item_nbr','date']).reset_index(drop=True)\n",
    "\n",
    "df_main['Before_Event'] = (pd.rolling_mean(df_main['Condition'], window=3).shift(-3) > 0)\n",
    "df_main['After_Event'] = (pd.rolling_mean(df_main['Condition'], window=3).shift(1) > 0)\n",
    "\n",
    "df_main['Before_Sales'] = pd.rolling_mean(df_main['units'], window=6).shift(-6)\n",
    "df_main['After_Sales'] = pd.rolling_mean(df_main['units'], window=6).shift(1)\n",
    "\n",
    "print df_main.columns\n",
    "print df_main.shape\n",
    "\n",
    "item_nbr_list = list(set(df_main['item_nbr']))\n",
    "store_nbr_list = list(set(df_main['store_nbr']))"
   ]
  },
  {
   "cell_type": "code",
   "execution_count": 3,
   "metadata": {},
   "outputs": [
    {
     "name": "stdout",
     "output_type": "stream",
     "text": [
      "1\n",
      "2\n",
      "3\n",
      "4\n",
      "5\n",
      "6\n",
      "7\n",
      "8\n",
      "9\n",
      "10\n",
      "11\n",
      "12\n",
      "13\n",
      "14\n",
      "15\n",
      "16\n",
      "17\n",
      "18\n",
      "19\n",
      "20\n",
      "21\n",
      "22\n",
      "23\n",
      "24\n",
      "25\n",
      "26\n",
      "27\n",
      "28\n",
      "29\n",
      "30\n",
      "31\n",
      "32\n",
      "33\n",
      "34\n",
      "35\n",
      "36\n",
      "37\n",
      "38\n",
      "39\n",
      "40\n",
      "41\n",
      "42\n",
      "43\n",
      "44\n",
      "45\n",
      "defaultdict(<type 'list'>, {1: [9, 28, 40, 47, 51, 89, 93, 99], 2: [5, 11, 44, 85, 93], 3: [2, 5, 45, 93, 102, 109], 4: [9, 27, 90, 93, 96, 97, 101], 5: [16, 20, 32, 37, 93, 105], 6: [9, 14, 45, 107], 7: [5, 7, 23, 93, 95], 8: [5, 23, 59, 84, 93, 100], 9: [5, 10, 42, 45, 93, 105], 10: [5, 21, 37, 86, 93], 11: [9, 61, 68, 86, 87, 110], 12: [16, 37, 79, 86, 93], 13: [5, 36, 46, 93, 104], 14: [9, 15, 25, 33, 50, 70, 88, 93], 15: [5, 15, 17, 45, 49, 61, 86, 93], 16: [16, 25, 39, 50, 64, 77, 85, 93], 17: [9, 37, 48, 71], 18: [5, 37, 57, 72], 19: [15, 16, 39, 69, 75, 83, 88, 93], 20: [5, 18, 41, 74, 93, 106], 21: [5, 44, 91, 109], 22: [9, 54, 68, 78, 93, 104], 23: [5, 29, 45, 56], 24: [6, 43, 60, 76, 97], 25: [9, 12, 45, 50, 81, 84, 93], 26: [2, 5, 45], 27: [9, 21, 68, 80, 93], 28: [2, 5, 35, 45], 29: [8, 41, 45, 56], 30: [13, 16, 44, 49, 51, 65], 31: [9, 45, 67, 93, 98, 104], 32: [9, 19, 45, 51, 58, 86, 93], 33: [9, 44, 85, 92, 93], 34: [9, 31, 45, 52, 84, 93], 35: [16, 24, 49, 50, 63, 66, 93, 105], 36: [1, 9, 30, 44], 37: [5, 15, 38, 45, 53, 104, 105], 38: [9, 45, 52, 86, 93, 98], 39: [9, 36, 103, 111], 40: [5, 15, 45, 51, 55, 93, 106], 41: [16, 61, 68, 86, 93, 108], 42: [5, 45, 82], 43: [3, 16, 37, 73, 93, 105], 44: [5, 62, 68, 93, 94, 105], 45: [4, 9, 22, 26, 34, 50]})\n",
      "Index([u'Condition', u'RA', u'SN', u'WEvent', u'avgspeed', u'date',\n",
      "       u'item_nbr', u'preciptotal', u'resultdir', u'store_nbr', u'tavg',\n",
      "       u'train', u'units', u'Before_Event', u'After_Event', u'Before_Sales',\n",
      "       u'After_Sales'],\n",
      "      dtype='object')\n",
      "(262206, 17)\n"
     ]
    }
   ],
   "source": [
    "from collections import defaultdict\n",
    "\n",
    "zero_dict = defaultdict(list)\n",
    "\n",
    "for store in store_nbr_list:\n",
    "    print store\n",
    "    for item in item_nbr_list:\n",
    "        mask = ((df_main['item_nbr'] == item) & (df_main['store_nbr'] == store))\n",
    "        if df_main.loc[mask,'units'].max() != 0:\n",
    "            zero_dict[store].append(item)\n",
    "        else:\n",
    "            df_main.loc[mask] = np.nan\n",
    "\n",
    "df_main = df_main.dropna()\n",
    "print zero_dict\n",
    "print df_main.columns\n",
    "print df_main.shape"
   ]
  },
  {
   "cell_type": "code",
   "execution_count": 4,
   "metadata": {},
   "outputs": [],
   "source": [
    "df_main.to_csv('../code/non-zeros.csv',sep=',')"
   ]
  },
  {
   "cell_type": "code",
   "execution_count": 1,
   "metadata": {},
   "outputs": [],
   "source": [
    "import pandas as pd\n",
    "import numpy as np\n",
    "\n",
    "df_main = pd.read_csv('../code/non-zeros.csv',sep=',')\n",
    "\n",
    "df_main['year'] = pd.to_datetime(df_main['date'], infer_datetime_format=True).dt.year\n",
    "df_main['month'] = pd.to_datetime(df_main['date'], infer_datetime_format=True).dt.month\n",
    "df_main['weekday'] = pd.to_datetime(df_main['date'], infer_datetime_format=True).dt.weekday\n",
    "\n",
    "df_main['units'] = df_main['units'].apply(lambda x: np.log(x+1))\n",
    "df_main2 = pd.get_dummies(df_main, columns=['year','month','weekday','item_nbr','store_nbr'])"
   ]
  },
  {
   "cell_type": "code",
   "execution_count": 2,
   "metadata": {},
   "outputs": [
    {
     "name": "stdout",
     "output_type": "stream",
     "text": [
      "Index([u'Unnamed: 0', u'Condition', u'RA', u'SN', u'WEvent', u'avgspeed',\n",
      "       u'date', u'item_nbr', u'preciptotal', u'resultdir', u'store_nbr',\n",
      "       u'tavg', u'train', u'units', u'Before_Event', u'After_Event',\n",
      "       u'Before_Sales', u'After_Sales', u'year', u'month', u'weekday'],\n",
      "      dtype='object')\n"
     ]
    }
   ],
   "source": [
    "print df_main.columns"
   ]
  },
  {
   "cell_type": "code",
   "execution_count": null,
   "metadata": {},
   "outputs": [],
   "source": [
    "from sklearn.preprocessing import MinMaxScaler\n",
    "from sklearn.svm import SVR\n",
    "\n",
    "df_main2 = df_main2.drop(['Unnamed: 0','resultdir','tavg','preciptotal','date'],axis=1)\n",
    "\n",
    "mask = (df_main2['train'] == 1)\n",
    "mask_test = (df_main2['train'] == 0)\n",
    "y_train = df_main2.loc[mask,'units']\n",
    "X_train = df_main2.loc[mask,df_main2.columns != 'units']\n",
    "\n",
    "X_test = df_main2.loc[mask_test,df_main2.columns != 'units']\n",
    "\n",
    "scaling = MinMaxScaler(feature_range=(0,1)).fit(X_train)\n",
    "X_train = scaling.transform(X_train)\n",
    "X_test = scaling.transform(X_test)\n",
    "\n",
    "svr = SVR()\n",
    "svr.fit(X_train, y_train)\n",
    "df_main.loc[mask_test,'units'] = svr.predict(X_test)"
   ]
  },
  {
   "cell_type": "code",
   "execution_count": null,
   "metadata": {
    "collapsed": true
   },
   "outputs": [],
   "source": [
    "df_main = df_main.loc[mask_test]\n",
    "\n",
    "df_main['units'] = df_main['units'].apply(lambda x: np.exp(x)-1)\n",
    "\n",
    "df_orderedtest = pd.read_csv(\"../code/ordered_test.csv\")\n",
    "df_orderedtest['train']=0\n",
    "df_orderedtest['units']=0\n",
    "\n",
    "print df_orderedtest.shape\n",
    "\n",
    "result = pd.merge(df_orderedtest, df_main, how='left', on=['date','item_nbr','store_nbr'])\n",
    "\n",
    "print result.shape\n",
    "print result.columns\n",
    "result['id'] = result['store_nbr'].astype(str) + '_' + result['item_nbr'].astype(str) + '_' + result['date'].astype(str)\n",
    "result = result.set_index('id')\n",
    "\n",
    "result = result['units']\n",
    "result = result.reset_index()\n",
    "mask = (result['units'] < 0)\n",
    "result.loc[mask,'units'] = 0\n",
    "result.to_csv(\"../code/result_all_svm.csv\",sep=\",\",index=False)"
   ]
  },
  {
   "cell_type": "code",
   "execution_count": null,
   "metadata": {
    "collapsed": true
   },
   "outputs": [],
   "source": []
  }
 ],
 "metadata": {
  "kernelspec": {
   "display_name": "Python 2",
   "language": "python",
   "name": "python2"
  },
  "language_info": {
   "codemirror_mode": {
    "name": "ipython",
    "version": 2
   },
   "file_extension": ".py",
   "mimetype": "text/x-python",
   "name": "python",
   "nbconvert_exporter": "python",
   "pygments_lexer": "ipython2",
   "version": "2.7.13"
  }
 },
 "nbformat": 4,
 "nbformat_minor": 2
}
