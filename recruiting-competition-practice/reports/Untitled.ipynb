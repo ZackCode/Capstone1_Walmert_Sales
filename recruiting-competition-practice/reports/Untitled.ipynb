{
 "cells": [
  {
   "cell_type": "code",
   "execution_count": null,
   "metadata": {
    "collapsed": true
   },
   "outputs": [],
   "source": [
    "import pandas as pd\n",
    "\n",
    "df_key = pd.read_csv(\"./input/key.csv\")\n",
    "df_train = pd.read_csv(\"./input/train.csv\")\n",
    "df_test = pd.read_csv(\"./input/test.csv\")\n",
    "df_weather = pd.read_csv(\"./input/weather.csv\")\n",
    "\n",
    "df_train['date'] = pd.to_datetime(df_train['date'])\n",
    "df_weather['date'] = pd.to_datetime(df_weather['date'])\n",
    "\n",
    "temp = pd.merge(df_train, df_key,how='left', on=['store_nbr'])\n",
    "df_main_train = pd.merge(temp, df_weather, how='left', on=['station_nbr','date'])\n",
    "\n",
    "print(df_train.shape)\n",
    "print(temp.shape)\n",
    "print(df_main_train.shape)\n",
    "print(list(df_main_train))\n",
    "\n",
    "df_ordered = df_main_train.sort_values(['store_nbr','item_nbr','date']).reset_index(drop=True)\n",
    "\n",
    "#df7 = df7.apply(pd.to_numeric, errors='coerce')\n",
    "df_ordered = df_ordered.convert_objects(convert_numeric=True)\n",
    "df_ordered = df_ordered.interpolate()\n",
    "\n",
    "\n",
    "patternRA = 'RA'\n",
    "patternSN = 'SN'\n",
    "df_ordered['RA'], df_ordered['SN'] = df_ordered['codesum'].str.contains(patternRA), df_ordered['codesum'].str.contains(patternSN)\n",
    "df_ordered['Condition'] = (df_ordered['RA'] & (df_ordered['preciptotal']>1.0)) | (df_ordered['SN'] & (df_ordered['preciptotal']>2.0))\n",
    "df_ordered['WEvent'] = (pd.rolling_mean(df_ordered['Condition'],window=7,center=True) > 0)\n",
    "\n",
    "mask = (df_ordered['WEvent'] == True)\n",
    "df_severeWeather = df_ordered.loc[mask]\n",
    "\n",
    "df_severeWeather.to_csv('severeWeather.csv', sep=',')\n",
    "df_ordered.to_csv('ordered.csv', sep=',')"
   ]
  }
 ],
 "metadata": {
  "kernelspec": {
   "display_name": "Python 2",
   "language": "python",
   "name": "python2"
  },
  "language_info": {
   "codemirror_mode": {
    "name": "ipython",
    "version": 2
   },
   "file_extension": ".py",
   "mimetype": "text/x-python",
   "name": "python",
   "nbconvert_exporter": "python",
   "pygments_lexer": "ipython2",
   "version": "2.7.13"
  }
 },
 "nbformat": 4,
 "nbformat_minor": 2
}
