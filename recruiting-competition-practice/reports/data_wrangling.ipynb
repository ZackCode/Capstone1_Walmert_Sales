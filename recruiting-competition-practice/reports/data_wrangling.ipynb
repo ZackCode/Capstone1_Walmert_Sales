{
 "cells": [
  {
   "cell_type": "markdown",
   "metadata": {},
   "source": [
    "# Capstone Project I Report: Data Wrangling"
   ]
  },
  {
   "cell_type": "markdown",
   "metadata": {},
   "source": [
    "This report describes the data wrangling steps I performed to clean the data set for my capstone project one, as well as making it ready for further processing. The steps I take include: data merge, data summarize, data interpolation, outliers detection and explanation, data selection."
   ]
  },
  {
   "cell_type": "markdown",
   "metadata": {
    "_cell_guid": "1f2f35cf-7d76-4d49-bfd8-72650f701806",
    "_uuid": "a1f279643542909de0a0955ed4f03ef49b7ffd81"
   },
   "source": [
    "# Data Merge"
   ]
  },
  {
   "cell_type": "markdown",
   "metadata": {
    "_cell_guid": "d4809115-c73e-49d3-aee4-e61941463326",
    "_execution_state": "idle",
    "_uuid": "b3020aa349294847185b0877d14957f6f8469cf7"
   },
   "source": [
    "The goal of this project is to predict goods sales based on weather data. The sales record is stored in train.csv, and weather record is stored in weather.csv. Data from key.csv indicates the corresponding relationship between the store and weather station.\n",
    "\n",
    "Naturally, the first step for this project would be merging the information from the datasets together.\n",
    "\n",
    "To merge datasets into one:"
   ]
  },
  {
   "cell_type": "code",
   "execution_count": 1,
   "metadata": {
    "_cell_guid": "99a2ad34-d8fb-4a7d-9eda-1d6291407dce",
    "_execution_state": "idle",
    "_uuid": "2ed9eb95b2519eb4ae71ab1c9f9e56fc7586dc8f"
   },
   "outputs": [
    {
     "name": "stdout",
     "output_type": "stream",
     "text": [
      "(4617600, 4)\n",
      "(4617600, 5)\n",
      "(4617600, 23)\n",
      "['date', 'store_nbr', 'item_nbr', 'units', 'station_nbr', 'tmax', 'tmin', 'tavg', 'depart', 'dewpoint', 'wetbulb', 'heat', 'cool', 'sunrise', 'sunset', 'codesum', 'snowfall', 'preciptotal', 'stnpressure', 'sealevel', 'resultspeed', 'resultdir', 'avgspeed']\n"
     ]
    }
   ],
   "source": [
    "import pandas as pd\n",
    "import numpy as np\n",
    "import sys\n",
    "import re\n",
    "df_key = pd.read_csv(\"../input/key.csv\")\n",
    "df_train = pd.read_csv(\"../input/train.csv\")\n",
    "df_test = pd.read_csv(\"../input/test.csv\")\n",
    "df_weather = pd.read_csv(\"../input/weather.csv\")\n",
    "\n",
    "df_train['date'] = pd.to_datetime(df_train['date'])\n",
    "df_weather['date'] = pd.to_datetime(df_weather['date'])\n",
    "\n",
    "temp = pd.merge(df_train, df_key,how='left', on=['store_nbr'])\n",
    "df_main_train = pd.merge(temp, df_weather, how='left', on=['station_nbr','date'])\n",
    "\n",
    "print(df_train.shape)\n",
    "print(temp.shape)\n",
    "print(df_main_train.shape)\n",
    "print(list(df_main_train))"
   ]
  },
  {
   "cell_type": "markdown",
   "metadata": {
    "_cell_guid": "e03b58f8-cd79-4172-b083-7f4cf0d7f3e3",
    "_uuid": "e942588eff91373222502fceb0682528234f37d1"
   },
   "source": [
    "The weather station number is first merged to sales record based on store number, and both time and station number are used to merge sales record and weather record."
   ]
  },
  {
   "cell_type": "markdown",
   "metadata": {
    "_cell_guid": "313dcd88-d887-47c4-ad57-2928f862bcac",
    "_execution_state": "idle",
    "_uuid": "9045311c9cb752fd7a0b837e5e016a1939059f29"
   },
   "source": [
    "## Data Summarize\n",
    "\n",
    "The main idea of doing data summarize is to make sure the content data is as described:"
   ]
  },
  {
   "cell_type": "code",
   "execution_count": 2,
   "metadata": {},
   "outputs": [
    {
     "name": "stdout",
     "output_type": "stream",
     "text": [
      "<class 'pandas.core.frame.DataFrame'>\n",
      "Int64Index: 4617600 entries, 0 to 4617599\n",
      "Data columns (total 23 columns):\n",
      "date           datetime64[ns]\n",
      "store_nbr      int64\n",
      "item_nbr       int64\n",
      "units          int64\n",
      "station_nbr    int64\n",
      "tmax           object\n",
      "tmin           object\n",
      "tavg           object\n",
      "depart         object\n",
      "dewpoint       object\n",
      "wetbulb        object\n",
      "heat           object\n",
      "cool           object\n",
      "sunrise        object\n",
      "sunset         object\n",
      "codesum        object\n",
      "snowfall       object\n",
      "preciptotal    object\n",
      "stnpressure    object\n",
      "sealevel       object\n",
      "resultspeed    object\n",
      "resultdir      object\n",
      "avgspeed       object\n",
      "dtypes: datetime64[ns](1), int64(4), object(18)\n",
      "memory usage: 845.5+ MB\n",
      "None\n",
      "          store_nbr      item_nbr         units   station_nbr\n",
      "count  4.617600e+06  4.617600e+06  4.617600e+06  4.617600e+06\n",
      "mean   2.309108e+01  5.600000e+01  9.868756e-01  1.132329e+01\n",
      "std    1.295281e+01  3.204164e+01  9.875798e+00  4.946884e+00\n",
      "min    1.000000e+00  1.000000e+00  0.000000e+00  1.000000e+00\n",
      "25%    1.200000e+01  2.800000e+01  0.000000e+00  7.000000e+00\n",
      "50%    2.300000e+01  5.600000e+01  0.000000e+00  1.200000e+01\n",
      "75%    3.400000e+01  8.400000e+01  0.000000e+00  1.500000e+01\n",
      "max    4.500000e+01  1.110000e+02  5.568000e+03  2.000000e+01\n"
     ]
    }
   ],
   "source": [
    "print(df_main_train.info())\n",
    "print(df_main_train.describe())"
   ]
  },
  {
   "cell_type": "markdown",
   "metadata": {
    "_cell_guid": "96d1d3a1-f34f-44bd-85b2-7c61f8c00a18",
    "_execution_state": "idle",
    "_uuid": "434630bcb0a778bff79190255e6da83112ded475"
   },
   "source": [
    "From above, we can see the following index appeared in the final dataset:\n",
    "\n",
    "* date: year-month-day format\n",
    "* store_nbr: Walmart store number\n",
    "* item_nbr: item number, 117 of them, each number indicates one item, we do not have further information about what precise item would that be. \n",
    "* units: number of items sold on that day\n",
    "* station_nbr: weather station number\n",
    "* tmax, tmin, tavg, depart, dewpoint, wetbulb: temperature max, min, average, departure from normal, average dew point, average wet bulb. in Fahrenheit\n",
    "* sunrise, sunset: time of sunrise and sunset\n",
    "* codesum: special code in letters indicating the weather conditions of that day, such as RA as rain, SN as snowing \n",
    "* snowfall: snow/ice on the ground in inches at 1200 UTC\n",
    "* preciptotal: 24-hour snow drop in inches\n",
    "* stnpressure: air pressure\n",
    "* sealevel: in meters\n",
    "* resultspeed: resultant wind speed, miles per hour\n",
    "* resultdir: resultant wind direciton, in degrees\n",
    "* avgspeed: average wind speed, miles per hour"
   ]
  },
  {
   "cell_type": "markdown",
   "metadata": {
    "_cell_guid": "a915a3d4-6c9f-4b98-a3ae-2a64b1b2c525",
    "_execution_state": "idle",
    "_uuid": "472bda9ffa9a0391f57515e1724168195ac45dbc"
   },
   "source": [
    "## Weather Event Locate & Data interpolation\n",
    "\n",
    "Highlight the data for the weather events, which is defined as rainy days with 1 inch or more rainfall, or snowy days with 2 inches or more snowfall.\n",
    "\n",
    "For data interpolation, pandas provide a convenient function: pd.interpolate()"
   ]
  },
  {
   "cell_type": "code",
   "execution_count": 3,
   "metadata": {
    "_cell_guid": "9b3ada8a-ef89-405c-b368-bbf52a2ae6d0",
    "_execution_state": "busy",
    "_uuid": "c95727501e3b64c7b5d44b1d90b8cbd7a4c2a5da"
   },
   "outputs": [
    {
     "name": "stderr",
     "output_type": "stream",
     "text": [
      "/home/zexi/anaconda2/lib/python2.7/site-packages/ipykernel/__main__.py:4: FutureWarning: convert_objects is deprecated.  Use the data-type specific converters pd.to_datetime, pd.to_timedelta and pd.to_numeric.\n"
     ]
    },
    {
     "name": "stdout",
     "output_type": "stream",
     "text": [
      "<class 'pandas.core.frame.DataFrame'>\n",
      "RangeIndex: 4617600 entries, 0 to 4617599\n",
      "Data columns (total 27 columns):\n",
      "date           datetime64[ns]\n",
      "store_nbr      int64\n",
      "item_nbr       int64\n",
      "units          int64\n",
      "station_nbr    int64\n",
      "tmax           float64\n",
      "tmin           float64\n",
      "tavg           float64\n",
      "depart         float64\n",
      "dewpoint       float64\n",
      "wetbulb        float64\n",
      "heat           float64\n",
      "cool           float64\n",
      "sunrise        float64\n",
      "sunset         float64\n",
      "codesum        object\n",
      "snowfall       float64\n",
      "preciptotal    float64\n",
      "stnpressure    float64\n",
      "sealevel       float64\n",
      "resultspeed    float64\n",
      "resultdir      float64\n",
      "avgspeed       float64\n",
      "RA             bool\n",
      "SN             bool\n",
      "Condition      bool\n",
      "WEvent         bool\n",
      "dtypes: bool(4), datetime64[ns](1), float64(17), int64(4), object(1)\n",
      "memory usage: 827.9+ MB\n",
      "None\n"
     ]
    },
    {
     "name": "stderr",
     "output_type": "stream",
     "text": [
      "/home/zexi/anaconda2/lib/python2.7/site-packages/ipykernel/__main__.py:12: FutureWarning: pd.rolling_mean is deprecated for Series and will be removed in a future version, replace with \n",
      "\tSeries.rolling(window=7,center=True).mean()\n"
     ]
    }
   ],
   "source": [
    "df_ordered = df_main_train.sort_values(['store_nbr','item_nbr','date']).reset_index(drop=True)\n",
    "\n",
    "# data interpolation after sorting\n",
    "df_ordered = df_ordered.convert_objects(convert_numeric=True)\n",
    "df_ordered = df_ordered.interpolate()\n",
    "\n",
    "# weather event locate\n",
    "patternRA = 'RA'\n",
    "patternSN = 'SN'\n",
    "df_ordered['RA'], df_ordered['SN'] = df_ordered['codesum'].str.contains(patternRA), df_ordered['codesum'].str.contains(patternSN)\n",
    "df_ordered['Condition'] = (df_ordered['RA'] & (df_ordered['preciptotal']>1.0)) | (df_ordered['SN'] & (df_ordered['preciptotal']>2.0))\n",
    "df_ordered['WEvent'] = (pd.rolling_mean(df_ordered['Condition'],window=7,center=True) > 0)\n",
    "\n",
    "mask = (df_ordered['WEvent'] == True)\n",
    "df_severeWeather = df_ordered.loc[mask]\n",
    "\n",
    "print(df_ordered.info())"
   ]
  },
  {
   "cell_type": "markdown",
   "metadata": {
    "_cell_guid": "a7546318-eb2d-4922-9754-342762b2fd1a",
    "_execution_state": "idle",
    "_uuid": "9102bc708f895f2419803856eead4a97670d67a4"
   },
   "source": [
    "## Outlier Detection\n",
    "\n",
    "Looking for outliers, defined by numbers 3 std away from the main:"
   ]
  },
  {
   "cell_type": "code",
   "execution_count": 4,
   "metadata": {
    "_cell_guid": "6fa6b5fb-41ee-4611-8d51-299226cee9c3",
    "_execution_state": "busy",
    "_uuid": "a485e9c57fea11c0013b88b4b0f0b2126568ca99"
   },
   "outputs": [
    {
     "name": "stdout",
     "output_type": "stream",
     "text": [
      "5.36\n",
      "5.67\n",
      "6.93\n",
      "7.36\n"
     ]
    }
   ],
   "source": [
    "df = df_ordered.loc[df_ordered.Condition == 1][['date','preciptotal']]\n",
    "\n",
    "df.preciptotal.mean()\n",
    "\n",
    "df_outlier = df[np.abs(df.preciptotal-df.preciptotal.mean())>(3*df.preciptotal.std())]\n",
    "\n",
    "grouped_df = df_outlier.groupby(['preciptotal'])['date']\n",
    "\n",
    "for key, item in grouped_df:\n",
    "    print(key)"
   ]
  },
  {
   "cell_type": "markdown",
   "metadata": {
    "_cell_guid": "ca858eac-7e97-4996-8987-46323262b09a",
    "_uuid": "5cfc58572fb9ac3aa131e001c1904c2ccbf0571c"
   },
   "source": [
    "As the most important data, 7.36 inches rainfall seems to be ok?..."
   ]
  },
  {
   "cell_type": "code",
   "execution_count": 5,
   "metadata": {
    "_cell_guid": "1696e7c2-14fc-41f4-b201-0595b3179d2c",
    "_execution_state": "busy",
    "_uuid": "b8ccaa9d097056757af86e089b1ccf8fa349f49e"
   },
   "outputs": [
    {
     "name": "stdout",
     "output_type": "stream",
     "text": [
      "24.0\n",
      "29.0\n"
     ]
    }
   ],
   "source": [
    "df = df_ordered.loc[df_ordered.Condition == 1][['date','tavg']]\n",
    "\n",
    "df.tavg.mean()\n",
    "\n",
    "df_outlier = df[np.abs(df.tavg-df.tavg.mean())>(3*df.tavg.std())]\n",
    "\n",
    "grouped_df = df_outlier.groupby(['tavg'])['date']\n",
    "\n",
    "for key, item in grouped_df:\n",
    "    print(key)"
   ]
  },
  {
   "cell_type": "markdown",
   "metadata": {
    "_cell_guid": "32934ed3-ce4d-46f2-aa31-c663290aac02",
    "_uuid": "089f1d906b35166aff5ac57c4701e94c3c1342f5"
   },
   "source": [
    "-4 degree is the coldest case, as one lived in central Canada I envy those guys."
   ]
  },
  {
   "cell_type": "code",
   "execution_count": 6,
   "metadata": {
    "_cell_guid": "41d1baec-cf3c-42aa-a014-0594c157d3b8",
    "_execution_state": "busy",
    "_uuid": "89c9de91cf136376b5d74fc0153befb57167f13e"
   },
   "outputs": [
    {
     "name": "stdout",
     "output_type": "stream",
     "text": [
      "22.2\n"
     ]
    }
   ],
   "source": [
    "df = df_ordered.loc[df_ordered.Condition == 1][['date','avgspeed']]\n",
    "\n",
    "df.avgspeed.mean()\n",
    "\n",
    "df_outlier = df[np.abs(df.avgspeed-df.avgspeed.mean())>(3*df.avgspeed.std())]\n",
    "\n",
    "grouped_df = df_outlier.groupby(['avgspeed'])['date']\n",
    "\n",
    "for key, item in grouped_df:\n",
    "    print(key)"
   ]
  },
  {
   "cell_type": "markdown",
   "metadata": {
    "_cell_guid": "36ac0891-f157-40dd-a9b6-4e88c200b7bc",
    "_uuid": "4ff619a22c3566073deb081f09224b44c5a26bad"
   },
   "source": [
    "22.2 mph does not even consider towards strong wind..."
   ]
  },
  {
   "cell_type": "markdown",
   "metadata": {
    "_cell_guid": "9d8ca9ec-9cb6-42b9-982a-4c24cc29f7e3",
    "_execution_state": "idle",
    "_uuid": "9408c2cdd33c418319601c1aace373ef05fb5940"
   },
   "source": [
    "## Data Selection: VIF"
   ]
  },
  {
   "cell_type": "markdown",
   "metadata": {
    "_cell_guid": "283f8e83-c861-4782-bb0f-5accdd86bce5",
    "_uuid": "17cb2210e5601363da2c39871cc67f5f31af21c1"
   },
   "source": [
    "Some features have strong (linear) correlations between them, and that may effect the performance of some learning methods. So it is best to identify those correlations using variance inflation factor, also known as VIF:"
   ]
  },
  {
   "cell_type": "code",
   "execution_count": 7,
   "metadata": {
    "_cell_guid": "b1650b68-512c-461c-9b97-9aafbfc4f329",
    "_execution_state": "busy",
    "_uuid": "3aae1e4036f489b108351858d5fca1162f234356"
   },
   "outputs": [
    {
     "name": "stderr",
     "output_type": "stream",
     "text": [
      "/home/zexi/anaconda2/lib/python2.7/site-packages/statsmodels/compat/pandas.py:56: FutureWarning: The pandas.core.datetools module is deprecated and will be removed in a future version. Please use the pandas.tseries module instead.\n",
      "  from pandas.core import datetools\n",
      "/home/zexi/anaconda2/lib/python2.7/site-packages/ipykernel/__main__.py:13: FutureWarning: convert_objects is deprecated.  Use the data-type specific converters pd.to_datetime, pd.to_timedelta and pd.to_numeric.\n",
      "/home/zexi/anaconda2/lib/python2.7/site-packages/statsmodels/regression/linear_model.py:1386: RuntimeWarning: divide by zero encountered in double_scalars\n",
      "  return 1 - self.ssr/self.centered_tss\n",
      "/home/zexi/anaconda2/lib/python2.7/site-packages/statsmodels/stats/outliers_influence.py:167: RuntimeWarning: divide by zero encountered in double_scalars\n",
      "  vif = 1. / (1. - r_squared_i)\n"
     ]
    },
    {
     "data": {
      "text/html": [
       "<div>\n",
       "<style>\n",
       "    .dataframe thead tr:only-child th {\n",
       "        text-align: right;\n",
       "    }\n",
       "\n",
       "    .dataframe thead th {\n",
       "        text-align: left;\n",
       "    }\n",
       "\n",
       "    .dataframe tbody tr th {\n",
       "        vertical-align: top;\n",
       "    }\n",
       "</style>\n",
       "<table border=\"1\" class=\"dataframe\">\n",
       "  <thead>\n",
       "    <tr style=\"text-align: right;\">\n",
       "      <th></th>\n",
       "      <th>VIF Factor</th>\n",
       "      <th>features</th>\n",
       "    </tr>\n",
       "  </thead>\n",
       "  <tbody>\n",
       "    <tr>\n",
       "      <th>0</th>\n",
       "      <td>0.000000</td>\n",
       "      <td>Intercept</td>\n",
       "    </tr>\n",
       "    <tr>\n",
       "      <th>1</th>\n",
       "      <td>47.100000</td>\n",
       "      <td>tmax</td>\n",
       "    </tr>\n",
       "    <tr>\n",
       "      <th>2</th>\n",
       "      <td>50.500000</td>\n",
       "      <td>tmin</td>\n",
       "    </tr>\n",
       "    <tr>\n",
       "      <th>3</th>\n",
       "      <td>inf</td>\n",
       "      <td>tavg</td>\n",
       "    </tr>\n",
       "    <tr>\n",
       "      <th>4</th>\n",
       "      <td>1.000000</td>\n",
       "      <td>depart</td>\n",
       "    </tr>\n",
       "    <tr>\n",
       "      <th>5</th>\n",
       "      <td>18.600000</td>\n",
       "      <td>dewpoint</td>\n",
       "    </tr>\n",
       "    <tr>\n",
       "      <th>6</th>\n",
       "      <td>40.600000</td>\n",
       "      <td>wetbulb</td>\n",
       "    </tr>\n",
       "    <tr>\n",
       "      <th>7</th>\n",
       "      <td>inf</td>\n",
       "      <td>heat</td>\n",
       "    </tr>\n",
       "    <tr>\n",
       "      <th>8</th>\n",
       "      <td>inf</td>\n",
       "      <td>cool</td>\n",
       "    </tr>\n",
       "  </tbody>\n",
       "</table>\n",
       "</div>"
      ],
      "text/plain": [
       "   VIF Factor   features\n",
       "0    0.000000  Intercept\n",
       "1   47.100000       tmax\n",
       "2   50.500000       tmin\n",
       "3         inf       tavg\n",
       "4    1.000000     depart\n",
       "5   18.600000   dewpoint\n",
       "6   40.600000    wetbulb\n",
       "7         inf       heat\n",
       "8         inf       cool"
      ]
     },
     "execution_count": 7,
     "metadata": {},
     "output_type": "execute_result"
    }
   ],
   "source": [
    "import pandas as pd\n",
    "import numpy as np\n",
    "from patsy import dmatrices\n",
    "import statsmodels.api as sm\n",
    "from statsmodels.stats.outliers_influence import variance_inflation_factor\n",
    "\n",
    "df = df_ordered\n",
    "\n",
    "mask = (df['item_nbr'] == 5)\n",
    "df = df.loc[mask]\n",
    "\n",
    "df_temperature_related = df[['units','tmax','tmin','tavg','depart','dewpoint','wetbulb','heat','cool']]\n",
    "df_temperature_related = df_temperature_related.convert_objects(convert_numeric=True).dropna()\n",
    "df_temperature_related = df_temperature_related._get_numeric_data()\n",
    "df_temperature_related = df_temperature_related.reset_index(drop=True)\n",
    "\n",
    "df_temperature_related_features = df_temperature_related[['tmax','tmin','tavg','depart','dewpoint','wetbulb','heat','cool']]\n",
    "\n",
    "features = \"+\".join(df_temperature_related_features.columns)\n",
    "y, X = dmatrices('units ~' + features, df_temperature_related, return_type='dataframe')\n",
    "\n",
    "vif = pd.DataFrame()\n",
    "vif[\"VIF Factor\"] = [variance_inflation_factor(X.values, i) for i in range(X.shape[1])]\n",
    "vif[\"features\"] = X.columns\n",
    "\n",
    "vif.round(1)"
   ]
  },
  {
   "cell_type": "code",
   "execution_count": 8,
   "metadata": {
    "_cell_guid": "820aa4d2-7583-4f7e-abfa-c321c997cff0",
    "_execution_state": "busy",
    "_uuid": "c22831ada52e12bb8d66825b4b27dbb0fdc21c00"
   },
   "outputs": [
    {
     "name": "stderr",
     "output_type": "stream",
     "text": [
      "/home/zexi/anaconda2/lib/python2.7/site-packages/ipykernel/__main__.py:2: FutureWarning: convert_objects is deprecated.  Use the data-type specific converters pd.to_datetime, pd.to_timedelta and pd.to_numeric.\n",
      "  from ipykernel import kernelapp as app\n"
     ]
    },
    {
     "data": {
      "text/html": [
       "<div>\n",
       "<style>\n",
       "    .dataframe thead tr:only-child th {\n",
       "        text-align: right;\n",
       "    }\n",
       "\n",
       "    .dataframe thead th {\n",
       "        text-align: left;\n",
       "    }\n",
       "\n",
       "    .dataframe tbody tr th {\n",
       "        vertical-align: top;\n",
       "    }\n",
       "</style>\n",
       "<table border=\"1\" class=\"dataframe\">\n",
       "  <thead>\n",
       "    <tr style=\"text-align: right;\">\n",
       "      <th></th>\n",
       "      <th>VIF Factor</th>\n",
       "      <th>features</th>\n",
       "    </tr>\n",
       "  </thead>\n",
       "  <tbody>\n",
       "    <tr>\n",
       "      <th>0</th>\n",
       "      <td>1.1</td>\n",
       "      <td>Intercept</td>\n",
       "    </tr>\n",
       "    <tr>\n",
       "      <th>1</th>\n",
       "      <td>1.0</td>\n",
       "      <td>snowfall</td>\n",
       "    </tr>\n",
       "    <tr>\n",
       "      <th>2</th>\n",
       "      <td>1.0</td>\n",
       "      <td>preciptotal</td>\n",
       "    </tr>\n",
       "  </tbody>\n",
       "</table>\n",
       "</div>"
      ],
      "text/plain": [
       "   VIF Factor     features\n",
       "0         1.1    Intercept\n",
       "1         1.0     snowfall\n",
       "2         1.0  preciptotal"
      ]
     },
     "execution_count": 8,
     "metadata": {},
     "output_type": "execute_result"
    }
   ],
   "source": [
    "df_rainfall_related = df[['units','snowfall','preciptotal']]\n",
    "df_rainfall_related = df_rainfall_related.convert_objects(convert_numeric=True).dropna()\n",
    "df_rainfall_related = df_rainfall_related._get_numeric_data()\n",
    "df_rainfall_related = df_rainfall_related.reset_index(drop=True)\n",
    "\n",
    "df_rainfall_related_features = df_rainfall_related[['snowfall','preciptotal']]\n",
    "\n",
    "features = \"+\".join(df_rainfall_related_features.columns)\n",
    "y, X = dmatrices('units ~' + features, df_rainfall_related, return_type='dataframe')\n",
    "\n",
    "vif = pd.DataFrame()\n",
    "vif[\"VIF Factor\"] = [variance_inflation_factor(X.values, i) for i in range(X.shape[1])]\n",
    "vif[\"features\"] = X.columns\n",
    "\n",
    "vif.round(1)"
   ]
  },
  {
   "cell_type": "code",
   "execution_count": 9,
   "metadata": {
    "_cell_guid": "6263c60d-38ec-4b8b-bfbf-584ca6323ee3",
    "_execution_state": "busy",
    "_uuid": "5ea99fd8db3db079ade84ce2c03203da3c378309"
   },
   "outputs": [
    {
     "name": "stderr",
     "output_type": "stream",
     "text": [
      "/home/zexi/anaconda2/lib/python2.7/site-packages/ipykernel/__main__.py:2: FutureWarning: convert_objects is deprecated.  Use the data-type specific converters pd.to_datetime, pd.to_timedelta and pd.to_numeric.\n",
      "  from ipykernel import kernelapp as app\n"
     ]
    },
    {
     "data": {
      "text/html": [
       "<div>\n",
       "<style>\n",
       "    .dataframe thead tr:only-child th {\n",
       "        text-align: right;\n",
       "    }\n",
       "\n",
       "    .dataframe thead th {\n",
       "        text-align: left;\n",
       "    }\n",
       "\n",
       "    .dataframe tbody tr th {\n",
       "        vertical-align: top;\n",
       "    }\n",
       "</style>\n",
       "<table border=\"1\" class=\"dataframe\">\n",
       "  <thead>\n",
       "    <tr style=\"text-align: right;\">\n",
       "      <th></th>\n",
       "      <th>VIF Factor</th>\n",
       "      <th>features</th>\n",
       "    </tr>\n",
       "  </thead>\n",
       "  <tbody>\n",
       "    <tr>\n",
       "      <th>0</th>\n",
       "      <td>27281.0</td>\n",
       "      <td>Intercept</td>\n",
       "    </tr>\n",
       "    <tr>\n",
       "      <th>1</th>\n",
       "      <td>1.2</td>\n",
       "      <td>stnpressure</td>\n",
       "    </tr>\n",
       "    <tr>\n",
       "      <th>2</th>\n",
       "      <td>1.1</td>\n",
       "      <td>sealevel</td>\n",
       "    </tr>\n",
       "    <tr>\n",
       "      <th>3</th>\n",
       "      <td>5.6</td>\n",
       "      <td>resultspeed</td>\n",
       "    </tr>\n",
       "    <tr>\n",
       "      <th>4</th>\n",
       "      <td>1.0</td>\n",
       "      <td>resultdir</td>\n",
       "    </tr>\n",
       "    <tr>\n",
       "      <th>5</th>\n",
       "      <td>5.8</td>\n",
       "      <td>avgspeed</td>\n",
       "    </tr>\n",
       "  </tbody>\n",
       "</table>\n",
       "</div>"
      ],
      "text/plain": [
       "   VIF Factor     features\n",
       "0     27281.0    Intercept\n",
       "1         1.2  stnpressure\n",
       "2         1.1     sealevel\n",
       "3         5.6  resultspeed\n",
       "4         1.0    resultdir\n",
       "5         5.8     avgspeed"
      ]
     },
     "execution_count": 9,
     "metadata": {},
     "output_type": "execute_result"
    }
   ],
   "source": [
    "df_wind_related = df[['units','stnpressure','sealevel','resultspeed','resultdir','avgspeed']]\n",
    "df_wind_related = df_wind_related.convert_objects(convert_numeric=True).dropna()\n",
    "df_wind_related = df_wind_related._get_numeric_data()\n",
    "df_wind_related = df_wind_related.reset_index(drop=True)\n",
    "\n",
    "df_wind_related_features = df_wind_related[['stnpressure','sealevel','resultspeed','resultdir','avgspeed']]\n",
    "\n",
    "features = \"+\".join(df_wind_related_features.columns)\n",
    "y, X = dmatrices('units ~' + features, df_wind_related, return_type='dataframe')\n",
    "\n",
    "vif = pd.DataFrame()\n",
    "vif[\"VIF Factor\"] = [variance_inflation_factor(X.values, i) for i in range(X.shape[1])]\n",
    "vif[\"features\"] = X.columns\n",
    "\n",
    "vif.round(1)"
   ]
  },
  {
   "cell_type": "markdown",
   "metadata": {
    "_cell_guid": "3cd7faeb-ae7a-4fec-9b76-eb0952ccfd20",
    "_uuid": "4a3c55c1e19f9dfcaed37c7f0a9b209d925b5a76"
   },
   "source": [
    "From the results above, we can see that temperature features have high correlations between one another. Therefore it is approirate to select only one feature (tavg) into feature set. The rainfall related features are chosen into the feature set. The avgspeed and resultspeed have high correlation, therefore only one of them (avgspeed) is chosen into the feature set. The other wind-related features are also chosen into the feature set."
   ]
  },
  {
   "cell_type": "code",
   "execution_count": null,
   "metadata": {
    "collapsed": true
   },
   "outputs": [],
   "source": [
    "# save data for further processing, not executed in this notebook\n",
    "df_severeWeather.to_csv('severeWeather.csv', sep=',')\n",
    "df_ordered.to_csv('ordered.csv', sep=',')"
   ]
  }
 ],
 "metadata": {
  "kernelspec": {
   "display_name": "Python 2",
   "language": "python",
   "name": "python2"
  },
  "language_info": {
   "codemirror_mode": {
    "name": "ipython",
    "version": 2
   },
   "file_extension": ".py",
   "mimetype": "text/x-python",
   "name": "python",
   "nbconvert_exporter": "python",
   "pygments_lexer": "ipython2",
   "version": "2.7.13"
  }
 },
 "nbformat": 4,
 "nbformat_minor": 1
}
