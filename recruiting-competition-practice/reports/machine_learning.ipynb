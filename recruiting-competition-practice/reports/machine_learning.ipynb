{
 "cells": [
  {
   "cell_type": "markdown",
   "metadata": {},
   "source": [
    "# Capstone I Report: Machine Learning"
   ]
  },
  {
   "cell_type": "markdown",
   "metadata": {
    "collapsed": true
   },
   "source": [
    "This report is supposed to be a milestone report that summarize all the previous reports. But in last meeting my mentor said there is no pass/fail option for the reports, I can basically write whatever I want (not ture).\n",
    "\n",
    "Anyway, I decide that my milestone report for capstone 1 would be a first-phase machine learning report. Based on the recommendations from the previous reports, in this report I would perform SVM (with several kernels), Decision Tree, Random Forests, and Neuro Network. \n",
    "\n",
    "The algorithm is first tuned based on train samples based on train-test split, then they are applied to test samples and the result is submitted to kaggle to see how well the models work."
   ]
  },
  {
   "cell_type": "markdown",
   "metadata": {},
   "source": [
    "## Get the training sample ready"
   ]
  },
  {
   "cell_type": "code",
   "execution_count": 1,
   "metadata": {
    "collapsed": true
   },
   "outputs": [],
   "source": [
    "import pandas as pd\n",
    "import numpy as np\n",
    "import sys\n",
    "import re\n",
    "df_ordered = pd.read_csv(\"../code/ordered.csv\")\n",
    "df_orderedtest = pd.read_csv(\"../code/ordered_test.csv\")"
   ]
  },
  {
   "cell_type": "code",
   "execution_count": 2,
   "metadata": {},
   "outputs": [
    {
     "name": "stderr",
     "output_type": "stream",
     "text": [
      "/home/zexi/anaconda2/lib/python2.7/site-packages/ipykernel/__main__.py:3: FutureWarning: pd.rolling_mean is deprecated for Series and will be removed in a future version, replace with \n",
      "\tSeries.rolling(window=3,center=False).mean()\n",
      "  app.launch_new_instance()\n",
      "/home/zexi/anaconda2/lib/python2.7/site-packages/ipykernel/__main__.py:4: FutureWarning: pd.rolling_mean is deprecated for Series and will be removed in a future version, replace with \n",
      "\tSeries.rolling(window=3,center=False).mean()\n",
      "/home/zexi/anaconda2/lib/python2.7/site-packages/ipykernel/__main__.py:8: FutureWarning: pd.rolling_mean is deprecated for Series and will be removed in a future version, replace with \n",
      "\tSeries.rolling(window=3,center=False).mean()\n",
      "/home/zexi/anaconda2/lib/python2.7/site-packages/ipykernel/__main__.py:9: FutureWarning: pd.rolling_mean is deprecated for Series and will be removed in a future version, replace with \n",
      "\tSeries.rolling(window=3,center=False).mean()\n"
     ]
    }
   ],
   "source": [
    "mask = (df_ordered['WEvent'] == 1)\n",
    "\n",
    "df_ordered['Before_Event'] = (pd.rolling_mean(df_ordered['Condition'], window=3).shift(-3) > 0)\n",
    "df_ordered['After_Event'] = (pd.rolling_mean(df_ordered['Condition'], window=3).shift(1) > 0)\n",
    "\n",
    "mask = (df_orderedtest['WEvent'] == 1)\n",
    "\n",
    "df_orderedtest['Before_Event'] = (pd.rolling_mean(df_orderedtest['Condition'], window=3).shift(-3) > 0)\n",
    "df_orderedtest['After_Event'] = (pd.rolling_mean(df_orderedtest['Condition'], window=3).shift(1) > 0)"
   ]
  },
  {
   "cell_type": "code",
   "execution_count": 3,
   "metadata": {},
   "outputs": [],
   "source": [
    "df_ordered['year'] = pd.to_datetime(df_ordered['date'], infer_datetime_format=True).dt.year\n",
    "df_ordered['month'] = pd.to_datetime(df_ordered['date'], infer_datetime_format=True).dt.month\n",
    "df_ordered['weekday'] = pd.to_datetime(df_ordered['date'], infer_datetime_format=True).dt.weekday\n",
    "\n",
    "df_orderedtest['year'] = pd.to_datetime(df_orderedtest['date'], infer_datetime_format=True).dt.year\n",
    "df_orderedtest['month'] = pd.to_datetime(df_orderedtest['date'], infer_datetime_format=True).dt.month\n",
    "df_orderedtest['weekday'] = pd.to_datetime(df_orderedtest['date'], infer_datetime_format=True).dt.weekday\n",
    "\n",
    "\n",
    "## drop unused columns\n",
    "\n",
    "df_ordered = df_ordered.drop(['station_nbr','tmax','tmin','depart','dewpoint','wetbulb','heat','cool','sunrise','sunset','codesum','snowfall','stnpressure','sealevel','resultspeed'],axis=1)\n",
    "df_orderedtest = df_orderedtest.drop(['station_nbr','tmax','tmin','depart','dewpoint','wetbulb','heat','cool','sunrise','sunset','codesum','snowfall','stnpressure','sealevel','resultspeed'],axis=1)\n",
    "\n",
    "## get_dummies\n",
    "\n",
    "df_ordered = pd.get_dummies(df_ordered, columns=['year','month','weekday'])\n",
    "df_ordered = df_ordered.drop(['Unnamed: 0','date'],axis=1)\n",
    "\n",
    "df_orderedtest = pd.get_dummies(df_orderedtest, columns=['year','month','weekday'])\n",
    "\n",
    "df_orderedtest['id'] = df_orderedtest['store_nbr'].astype(str) + '_' + df_orderedtest['item_nbr'].astype(str) + '_' + df_orderedtest['date'].astype(str)\n",
    "df_orderedtest = df_orderedtest.set_index('id')\n",
    "\n",
    "df_orderedtest = df_orderedtest.drop(['Unnamed: 0','date'],axis=1)\n",
    "## train test split"
   ]
  },
  {
   "cell_type": "code",
   "execution_count": 4,
   "metadata": {},
   "outputs": [],
   "source": [
    "item_nbr_list = list(set(df_ordered['item_nbr']))\n",
    "store_nbr_list = list(set(df_ordered['store_nbr']))\n",
    "\n",
    "df_orderedtest.insert(12, 'year_2012', 0)\n",
    "df_orderedtest['units'] = 0"
   ]
  },
  {
   "cell_type": "code",
   "execution_count": 5,
   "metadata": {},
   "outputs": [
    {
     "data": {
      "text/plain": [
       "True"
      ]
     },
     "execution_count": 5,
     "metadata": {},
     "output_type": "execute_result"
    }
   ],
   "source": [
    "False == 0"
   ]
  },
  {
   "cell_type": "markdown",
   "metadata": {},
   "source": [
    "## SVM"
   ]
  },
  {
   "cell_type": "code",
   "execution_count": 6,
   "metadata": {},
   "outputs": [
    {
     "name": "stdout",
     "output_type": "stream",
     "text": [
      "1\n",
      "2\n",
      "3\n",
      "4\n",
      "5\n",
      "6\n",
      "7\n",
      "8\n",
      "9\n",
      "10\n",
      "11\n",
      "12\n",
      "13\n",
      "14\n",
      "15\n",
      "16\n",
      "17\n",
      "18\n",
      "19\n",
      "20\n",
      "21\n",
      "22\n",
      "23\n",
      "24\n",
      "25\n",
      "26\n",
      "27\n",
      "28\n",
      "29\n",
      "30\n",
      "31\n",
      "32\n",
      "33\n",
      "34\n",
      "35\n",
      "36\n",
      "37\n",
      "38\n",
      "39\n",
      "40\n",
      "41\n",
      "42\n",
      "43\n",
      "44\n",
      "45\n",
      "id\n",
      "1_1_2013-06-04       0.0\n",
      "1_1_2013-06-05       0.0\n",
      "1_1_2013-06-06       0.0\n",
      "1_1_2013-06-07       0.0\n",
      "1_1_2013-06-08       0.0\n",
      "1_1_2013-06-09       0.0\n",
      "1_1_2013-06-10       0.0\n",
      "1_1_2013-06-28       0.0\n",
      "1_1_2013-06-29       0.0\n",
      "1_1_2013-06-30       0.0\n",
      "1_1_2013-07-01       0.0\n",
      "1_1_2013-07-02       0.0\n",
      "1_1_2013-07-03       0.0\n",
      "1_1_2013-07-04       0.0\n",
      "1_1_2013-07-20       0.0\n",
      "1_1_2013-07-21       0.0\n",
      "1_1_2013-07-22       0.0\n",
      "1_1_2013-07-23       0.0\n",
      "1_1_2013-07-24       0.0\n",
      "1_1_2013-07-25       0.0\n",
      "1_1_2013-07-26       0.0\n",
      "1_1_2013-07-30       0.0\n",
      "1_1_2013-07-31       0.0\n",
      "1_1_2013-08-01       0.0\n",
      "1_1_2013-08-02       0.0\n",
      "1_1_2013-08-03       0.0\n",
      "1_1_2013-08-04       0.0\n",
      "1_1_2013-08-05       0.0\n",
      "1_1_2013-08-06       0.0\n",
      "1_1_2013-08-07       0.0\n",
      "                    ... \n",
      "45_111_2014-04-02    0.0\n",
      "45_111_2014-06-23    0.0\n",
      "45_111_2014-06-24    0.0\n",
      "45_111_2014-06-25    0.0\n",
      "45_111_2014-06-26    0.0\n",
      "45_111_2014-06-27    0.0\n",
      "45_111_2014-06-28    0.0\n",
      "45_111_2014-06-29    0.0\n",
      "45_111_2014-07-01    0.0\n",
      "45_111_2014-07-02    0.0\n",
      "45_111_2014-07-03    0.0\n",
      "45_111_2014-07-04    0.0\n",
      "45_111_2014-07-05    0.0\n",
      "45_111_2014-07-06    0.0\n",
      "45_111_2014-07-07    0.0\n",
      "45_111_2014-08-10    0.0\n",
      "45_111_2014-08-11    0.0\n",
      "45_111_2014-08-12    0.0\n",
      "45_111_2014-08-13    0.0\n",
      "45_111_2014-08-14    0.0\n",
      "45_111_2014-08-15    0.0\n",
      "45_111_2014-08-16    0.0\n",
      "45_111_2014-10-19    0.0\n",
      "45_111_2014-10-20    0.0\n",
      "45_111_2014-10-21    0.0\n",
      "45_111_2014-10-22    0.0\n",
      "45_111_2014-10-23    0.0\n",
      "45_111_2014-10-24    0.0\n",
      "45_111_2014-10-25    0.0\n",
      "45_111_2014-10-26    0.0\n",
      "Name: units, Length: 526917, dtype: float64\n"
     ]
    }
   ],
   "source": [
    "from sklearn.preprocessing import MinMaxScaler\n",
    "from collections import defaultdict\n",
    "from sklearn.svm import SVR\n",
    "\n",
    "for store in store_nbr_list:\n",
    "    for item in item_nbr_list:\n",
    "        mask = ((df_ordered['item_nbr'] == item) & (df_ordered['store_nbr'] == store))\n",
    "        y_train = df_ordered.loc[mask,'units']\n",
    "        X_train = df_ordered.loc[mask,df_ordered.columns != 'units']\n",
    "        \n",
    "        mask = ((df_orderedtest['item_nbr'] == item) & (df_orderedtest['store_nbr'] == store))\n",
    "        X_test = df_orderedtest.loc[mask,df_orderedtest.columns != 'units']\n",
    "        \n",
    "        if X_test.empty == 0:\n",
    "       \n",
    "            scaling = MinMaxScaler(feature_range=(0,1)).fit(X_train)\n",
    "            X_train = scaling.transform(X_train)\n",
    "            X_test = scaling.transform(X_test)\n",
    "        \n",
    "            svr = SVR()\n",
    "            svr.fit(X_train, y_train)\n",
    "            df_orderedtest.loc[mask,'units'] = svr.predict(X_test)\n",
    "        \n",
    "    print store\n",
    "        \n",
    "result = df_orderedtest['units']\n",
    "\n",
    "print result\n",
    "        \n",
    "        \n",
    "        \n",
    "# X_train, X_test, y_train, y_test = train_test_split(X, y, random_state=42)\n",
    "\n",
    "\n",
    "# scaling = MinMaxScaler(feature_range=(-1,1)).fit(X_train)\n",
    "# X_train = scaling.transform(X_train)\n",
    "# X_test = scaling.transform(X_test)"
   ]
  },
  {
   "cell_type": "code",
   "execution_count": 7,
   "metadata": {
    "collapsed": true
   },
   "outputs": [],
   "source": [
    "result = result.reset_index()"
   ]
  },
  {
   "cell_type": "code",
   "execution_count": 12,
   "metadata": {
    "collapsed": true
   },
   "outputs": [],
   "source": [
    "mask = (result['units'] < 0)\n",
    "result.loc[mask,'units'] = 0"
   ]
  },
  {
   "cell_type": "code",
   "execution_count": 13,
   "metadata": {},
   "outputs": [],
   "source": [
    "result.to_csv(\"../code/result.csv\",sep=\",\",index=False)"
   ]
  },
  {
   "cell_type": "markdown",
   "metadata": {},
   "source": [
    "## Decision Tree and Random Forest"
   ]
  },
  {
   "cell_type": "code",
   "execution_count": null,
   "metadata": {
    "collapsed": true
   },
   "outputs": [],
   "source": [
    "## apply decision tree and random forest"
   ]
  },
  {
   "cell_type": "markdown",
   "metadata": {},
   "source": [
    "## Neuro Network"
   ]
  },
  {
   "cell_type": "markdown",
   "metadata": {},
   "source": [
    "## Kaggle Performance\n",
    "\n",
    "### What if I submit a file predicting everything to zero?"
   ]
  },
  {
   "cell_type": "markdown",
   "metadata": {},
   "source": [
    "### Get the testing samples ready"
   ]
  },
  {
   "cell_type": "markdown",
   "metadata": {},
   "source": [
    "### Using models"
   ]
  },
  {
   "cell_type": "code",
   "execution_count": null,
   "metadata": {
    "collapsed": true
   },
   "outputs": [],
   "source": []
  }
 ],
 "metadata": {
  "kernelspec": {
   "display_name": "Python 2",
   "language": "python",
   "name": "python2"
  },
  "language_info": {
   "codemirror_mode": {
    "name": "ipython",
    "version": 2
   },
   "file_extension": ".py",
   "mimetype": "text/x-python",
   "name": "python",
   "nbconvert_exporter": "python",
   "pygments_lexer": "ipython2",
   "version": "2.7.13"
  }
 },
 "nbformat": 4,
 "nbformat_minor": 2
}
